{
  "nbformat": 4,
  "nbformat_minor": 0,
  "metadata": {
    "colab": {
      "provenance": [],
      "authorship_tag": "ABX9TyOGF1Ba+ZUdqzAi3DVaZdu2",
      "include_colab_link": true
    },
    "kernelspec": {
      "name": "python3",
      "display_name": "Python 3"
    },
    "language_info": {
      "name": "python"
    }
  },
  "cells": [
    {
      "cell_type": "markdown",
      "metadata": {
        "id": "view-in-github",
        "colab_type": "text"
      },
      "source": [
        "<a href=\"https://colab.research.google.com/github/Farahnosh-Yousofi/PyTorch-Tutorials/blob/main/Pytorch_workflow_exercises.ipynb\" target=\"_parent\"><img src=\"https://colab.research.google.com/assets/colab-badge.svg\" alt=\"Open In Colab\"/></a>"
      ]
    },
    {
      "cell_type": "code",
      "execution_count": 23,
      "metadata": {
        "id": "KCsjVr7JgIbu"
      },
      "outputs": [],
      "source": [
        "import torch\n",
        "from torch import nn\n",
        "import matplotlib.pyplot as plt\n"
      ]
    },
    {
      "cell_type": "code",
      "source": [
        "# Setup Device-agnostis code\n",
        "device = torch.device(\"cuda\" if torch.cuda.is_available() else \"cpu\")"
      ],
      "metadata": {
        "id": "4zKW1QxbWeXf"
      },
      "execution_count": 24,
      "outputs": []
    },
    {
      "cell_type": "code",
      "source": [
        "weight = 0.3\n",
        "bias = 0.9\n",
        "\n",
        "start = 0\n",
        "end = 1\n",
        "step = 0.01\n",
        "\n",
        "x = torch.arange(start, end, step).unsqueeze(dim = 1)\n",
        "\n",
        "y = weight*x+bias\n"
      ],
      "metadata": {
        "id": "C2NaL4jGv3o7"
      },
      "execution_count": 25,
      "outputs": []
    },
    {
      "cell_type": "code",
      "source": [
        "y, x, len(x), len(y)"
      ],
      "metadata": {
        "colab": {
          "base_uri": "https://localhost:8080/"
        },
        "id": "DcnF-ecxxBXc",
        "outputId": "cf6aed21-f941-4fea-fbfd-01e96c2d318c"
      },
      "execution_count": 26,
      "outputs": [
        {
          "output_type": "execute_result",
          "data": {
            "text/plain": [
              "(tensor([[0.9000],\n",
              "         [0.9030],\n",
              "         [0.9060],\n",
              "         [0.9090],\n",
              "         [0.9120],\n",
              "         [0.9150],\n",
              "         [0.9180],\n",
              "         [0.9210],\n",
              "         [0.9240],\n",
              "         [0.9270],\n",
              "         [0.9300],\n",
              "         [0.9330],\n",
              "         [0.9360],\n",
              "         [0.9390],\n",
              "         [0.9420],\n",
              "         [0.9450],\n",
              "         [0.9480],\n",
              "         [0.9510],\n",
              "         [0.9540],\n",
              "         [0.9570],\n",
              "         [0.9600],\n",
              "         [0.9630],\n",
              "         [0.9660],\n",
              "         [0.9690],\n",
              "         [0.9720],\n",
              "         [0.9750],\n",
              "         [0.9780],\n",
              "         [0.9810],\n",
              "         [0.9840],\n",
              "         [0.9870],\n",
              "         [0.9900],\n",
              "         [0.9930],\n",
              "         [0.9960],\n",
              "         [0.9990],\n",
              "         [1.0020],\n",
              "         [1.0050],\n",
              "         [1.0080],\n",
              "         [1.0110],\n",
              "         [1.0140],\n",
              "         [1.0170],\n",
              "         [1.0200],\n",
              "         [1.0230],\n",
              "         [1.0260],\n",
              "         [1.0290],\n",
              "         [1.0320],\n",
              "         [1.0350],\n",
              "         [1.0380],\n",
              "         [1.0410],\n",
              "         [1.0440],\n",
              "         [1.0470],\n",
              "         [1.0500],\n",
              "         [1.0530],\n",
              "         [1.0560],\n",
              "         [1.0590],\n",
              "         [1.0620],\n",
              "         [1.0650],\n",
              "         [1.0680],\n",
              "         [1.0710],\n",
              "         [1.0740],\n",
              "         [1.0770],\n",
              "         [1.0800],\n",
              "         [1.0830],\n",
              "         [1.0860],\n",
              "         [1.0890],\n",
              "         [1.0920],\n",
              "         [1.0950],\n",
              "         [1.0980],\n",
              "         [1.1010],\n",
              "         [1.1040],\n",
              "         [1.1070],\n",
              "         [1.1100],\n",
              "         [1.1130],\n",
              "         [1.1160],\n",
              "         [1.1190],\n",
              "         [1.1220],\n",
              "         [1.1250],\n",
              "         [1.1280],\n",
              "         [1.1310],\n",
              "         [1.1340],\n",
              "         [1.1370],\n",
              "         [1.1400],\n",
              "         [1.1430],\n",
              "         [1.1460],\n",
              "         [1.1490],\n",
              "         [1.1520],\n",
              "         [1.1550],\n",
              "         [1.1580],\n",
              "         [1.1610],\n",
              "         [1.1640],\n",
              "         [1.1670],\n",
              "         [1.1700],\n",
              "         [1.1730],\n",
              "         [1.1760],\n",
              "         [1.1790],\n",
              "         [1.1820],\n",
              "         [1.1850],\n",
              "         [1.1880],\n",
              "         [1.1910],\n",
              "         [1.1940],\n",
              "         [1.1970]]),\n",
              " tensor([[0.0000],\n",
              "         [0.0100],\n",
              "         [0.0200],\n",
              "         [0.0300],\n",
              "         [0.0400],\n",
              "         [0.0500],\n",
              "         [0.0600],\n",
              "         [0.0700],\n",
              "         [0.0800],\n",
              "         [0.0900],\n",
              "         [0.1000],\n",
              "         [0.1100],\n",
              "         [0.1200],\n",
              "         [0.1300],\n",
              "         [0.1400],\n",
              "         [0.1500],\n",
              "         [0.1600],\n",
              "         [0.1700],\n",
              "         [0.1800],\n",
              "         [0.1900],\n",
              "         [0.2000],\n",
              "         [0.2100],\n",
              "         [0.2200],\n",
              "         [0.2300],\n",
              "         [0.2400],\n",
              "         [0.2500],\n",
              "         [0.2600],\n",
              "         [0.2700],\n",
              "         [0.2800],\n",
              "         [0.2900],\n",
              "         [0.3000],\n",
              "         [0.3100],\n",
              "         [0.3200],\n",
              "         [0.3300],\n",
              "         [0.3400],\n",
              "         [0.3500],\n",
              "         [0.3600],\n",
              "         [0.3700],\n",
              "         [0.3800],\n",
              "         [0.3900],\n",
              "         [0.4000],\n",
              "         [0.4100],\n",
              "         [0.4200],\n",
              "         [0.4300],\n",
              "         [0.4400],\n",
              "         [0.4500],\n",
              "         [0.4600],\n",
              "         [0.4700],\n",
              "         [0.4800],\n",
              "         [0.4900],\n",
              "         [0.5000],\n",
              "         [0.5100],\n",
              "         [0.5200],\n",
              "         [0.5300],\n",
              "         [0.5400],\n",
              "         [0.5500],\n",
              "         [0.5600],\n",
              "         [0.5700],\n",
              "         [0.5800],\n",
              "         [0.5900],\n",
              "         [0.6000],\n",
              "         [0.6100],\n",
              "         [0.6200],\n",
              "         [0.6300],\n",
              "         [0.6400],\n",
              "         [0.6500],\n",
              "         [0.6600],\n",
              "         [0.6700],\n",
              "         [0.6800],\n",
              "         [0.6900],\n",
              "         [0.7000],\n",
              "         [0.7100],\n",
              "         [0.7200],\n",
              "         [0.7300],\n",
              "         [0.7400],\n",
              "         [0.7500],\n",
              "         [0.7600],\n",
              "         [0.7700],\n",
              "         [0.7800],\n",
              "         [0.7900],\n",
              "         [0.8000],\n",
              "         [0.8100],\n",
              "         [0.8200],\n",
              "         [0.8300],\n",
              "         [0.8400],\n",
              "         [0.8500],\n",
              "         [0.8600],\n",
              "         [0.8700],\n",
              "         [0.8800],\n",
              "         [0.8900],\n",
              "         [0.9000],\n",
              "         [0.9100],\n",
              "         [0.9200],\n",
              "         [0.9300],\n",
              "         [0.9400],\n",
              "         [0.9500],\n",
              "         [0.9600],\n",
              "         [0.9700],\n",
              "         [0.9800],\n",
              "         [0.9900]]),\n",
              " 100,\n",
              " 100)"
            ]
          },
          "metadata": {},
          "execution_count": 26
        }
      ]
    },
    {
      "cell_type": "code",
      "source": [
        "split = int(0.8*len(x))\n",
        "split"
      ],
      "metadata": {
        "colab": {
          "base_uri": "https://localhost:8080/"
        },
        "id": "nBStIew4xC17",
        "outputId": "a2fdc9a8-cc3a-43a4-b483-c357bf0dc5a5"
      },
      "execution_count": 28,
      "outputs": [
        {
          "output_type": "execute_result",
          "data": {
            "text/plain": [
              "80"
            ]
          },
          "metadata": {},
          "execution_count": 28
        }
      ]
    },
    {
      "cell_type": "code",
      "source": [
        "x_train, y_train = x[:split], y[:split]"
      ],
      "metadata": {
        "id": "vq_b13pOxXZn"
      },
      "execution_count": 29,
      "outputs": []
    },
    {
      "cell_type": "code",
      "source": [
        "x_test, y_test = x[split:], y[split:]"
      ],
      "metadata": {
        "id": "82yZIDA1xmti"
      },
      "execution_count": 30,
      "outputs": []
    },
    {
      "cell_type": "code",
      "source": [
        "x_train, y_train, x_test, y_test"
      ],
      "metadata": {
        "colab": {
          "base_uri": "https://localhost:8080/"
        },
        "id": "DoKEcuusxu-G",
        "outputId": "19d6aa50-05c1-4b38-acb9-6870bbfcc6b9"
      },
      "execution_count": 31,
      "outputs": [
        {
          "output_type": "execute_result",
          "data": {
            "text/plain": [
              "(tensor([[0.0000],\n",
              "         [0.0100],\n",
              "         [0.0200],\n",
              "         [0.0300],\n",
              "         [0.0400],\n",
              "         [0.0500],\n",
              "         [0.0600],\n",
              "         [0.0700],\n",
              "         [0.0800],\n",
              "         [0.0900],\n",
              "         [0.1000],\n",
              "         [0.1100],\n",
              "         [0.1200],\n",
              "         [0.1300],\n",
              "         [0.1400],\n",
              "         [0.1500],\n",
              "         [0.1600],\n",
              "         [0.1700],\n",
              "         [0.1800],\n",
              "         [0.1900],\n",
              "         [0.2000],\n",
              "         [0.2100],\n",
              "         [0.2200],\n",
              "         [0.2300],\n",
              "         [0.2400],\n",
              "         [0.2500],\n",
              "         [0.2600],\n",
              "         [0.2700],\n",
              "         [0.2800],\n",
              "         [0.2900],\n",
              "         [0.3000],\n",
              "         [0.3100],\n",
              "         [0.3200],\n",
              "         [0.3300],\n",
              "         [0.3400],\n",
              "         [0.3500],\n",
              "         [0.3600],\n",
              "         [0.3700],\n",
              "         [0.3800],\n",
              "         [0.3900],\n",
              "         [0.4000],\n",
              "         [0.4100],\n",
              "         [0.4200],\n",
              "         [0.4300],\n",
              "         [0.4400],\n",
              "         [0.4500],\n",
              "         [0.4600],\n",
              "         [0.4700],\n",
              "         [0.4800],\n",
              "         [0.4900],\n",
              "         [0.5000],\n",
              "         [0.5100],\n",
              "         [0.5200],\n",
              "         [0.5300],\n",
              "         [0.5400],\n",
              "         [0.5500],\n",
              "         [0.5600],\n",
              "         [0.5700],\n",
              "         [0.5800],\n",
              "         [0.5900],\n",
              "         [0.6000],\n",
              "         [0.6100],\n",
              "         [0.6200],\n",
              "         [0.6300],\n",
              "         [0.6400],\n",
              "         [0.6500],\n",
              "         [0.6600],\n",
              "         [0.6700],\n",
              "         [0.6800],\n",
              "         [0.6900],\n",
              "         [0.7000],\n",
              "         [0.7100],\n",
              "         [0.7200],\n",
              "         [0.7300],\n",
              "         [0.7400],\n",
              "         [0.7500],\n",
              "         [0.7600],\n",
              "         [0.7700],\n",
              "         [0.7800],\n",
              "         [0.7900]]),\n",
              " tensor([[0.9000],\n",
              "         [0.9030],\n",
              "         [0.9060],\n",
              "         [0.9090],\n",
              "         [0.9120],\n",
              "         [0.9150],\n",
              "         [0.9180],\n",
              "         [0.9210],\n",
              "         [0.9240],\n",
              "         [0.9270],\n",
              "         [0.9300],\n",
              "         [0.9330],\n",
              "         [0.9360],\n",
              "         [0.9390],\n",
              "         [0.9420],\n",
              "         [0.9450],\n",
              "         [0.9480],\n",
              "         [0.9510],\n",
              "         [0.9540],\n",
              "         [0.9570],\n",
              "         [0.9600],\n",
              "         [0.9630],\n",
              "         [0.9660],\n",
              "         [0.9690],\n",
              "         [0.9720],\n",
              "         [0.9750],\n",
              "         [0.9780],\n",
              "         [0.9810],\n",
              "         [0.9840],\n",
              "         [0.9870],\n",
              "         [0.9900],\n",
              "         [0.9930],\n",
              "         [0.9960],\n",
              "         [0.9990],\n",
              "         [1.0020],\n",
              "         [1.0050],\n",
              "         [1.0080],\n",
              "         [1.0110],\n",
              "         [1.0140],\n",
              "         [1.0170],\n",
              "         [1.0200],\n",
              "         [1.0230],\n",
              "         [1.0260],\n",
              "         [1.0290],\n",
              "         [1.0320],\n",
              "         [1.0350],\n",
              "         [1.0380],\n",
              "         [1.0410],\n",
              "         [1.0440],\n",
              "         [1.0470],\n",
              "         [1.0500],\n",
              "         [1.0530],\n",
              "         [1.0560],\n",
              "         [1.0590],\n",
              "         [1.0620],\n",
              "         [1.0650],\n",
              "         [1.0680],\n",
              "         [1.0710],\n",
              "         [1.0740],\n",
              "         [1.0770],\n",
              "         [1.0800],\n",
              "         [1.0830],\n",
              "         [1.0860],\n",
              "         [1.0890],\n",
              "         [1.0920],\n",
              "         [1.0950],\n",
              "         [1.0980],\n",
              "         [1.1010],\n",
              "         [1.1040],\n",
              "         [1.1070],\n",
              "         [1.1100],\n",
              "         [1.1130],\n",
              "         [1.1160],\n",
              "         [1.1190],\n",
              "         [1.1220],\n",
              "         [1.1250],\n",
              "         [1.1280],\n",
              "         [1.1310],\n",
              "         [1.1340],\n",
              "         [1.1370]]),\n",
              " tensor([[0.8000],\n",
              "         [0.8100],\n",
              "         [0.8200],\n",
              "         [0.8300],\n",
              "         [0.8400],\n",
              "         [0.8500],\n",
              "         [0.8600],\n",
              "         [0.8700],\n",
              "         [0.8800],\n",
              "         [0.8900],\n",
              "         [0.9000],\n",
              "         [0.9100],\n",
              "         [0.9200],\n",
              "         [0.9300],\n",
              "         [0.9400],\n",
              "         [0.9500],\n",
              "         [0.9600],\n",
              "         [0.9700],\n",
              "         [0.9800],\n",
              "         [0.9900]]),\n",
              " tensor([[1.1400],\n",
              "         [1.1430],\n",
              "         [1.1460],\n",
              "         [1.1490],\n",
              "         [1.1520],\n",
              "         [1.1550],\n",
              "         [1.1580],\n",
              "         [1.1610],\n",
              "         [1.1640],\n",
              "         [1.1670],\n",
              "         [1.1700],\n",
              "         [1.1730],\n",
              "         [1.1760],\n",
              "         [1.1790],\n",
              "         [1.1820],\n",
              "         [1.1850],\n",
              "         [1.1880],\n",
              "         [1.1910],\n",
              "         [1.1940],\n",
              "         [1.1970]]))"
            ]
          },
          "metadata": {},
          "execution_count": 31
        }
      ]
    },
    {
      "cell_type": "code",
      "source": [
        "def plot_data(train_data =x_train,\n",
        "                 train_label = y_train,\n",
        "                 test_data = x_test,\n",
        "                 test_labels = y_test,\n",
        "                 predictions = None):\n",
        "\n",
        "  '''\n",
        "  Plots training data and test data and compares pridections\n",
        "  '''\n",
        "  plt.figure(figsize = (10,7))\n",
        "\n",
        "  #plotting training data\n",
        "  plt.scatter(train_data, train_label, c=\"g\", s = 4, label = \"Training Data\")\n",
        "\n",
        "  # plotting testing data\n",
        "  plt.scatter(test_data, test_labels, c = \"orange\", s = 4 , label = \"Testing Data\")\n",
        "\n",
        "  if predictions is not None:\n",
        "    plt.scatter(test_data, predictions, c = \"red\", s = 4, label = \"Predictions for test data\")\n",
        "\n",
        "  # show the legend\n",
        "  plt.legend(prop={\"size\":14})\n"
      ],
      "metadata": {
        "id": "3gfkGLOmx0O_"
      },
      "execution_count": 32,
      "outputs": []
    },
    {
      "cell_type": "code",
      "source": [
        "plot_data()"
      ],
      "metadata": {
        "colab": {
          "base_uri": "https://localhost:8080/",
          "height": 602
        },
        "id": "hJMs5SGc0ALO",
        "outputId": "cbc6b95c-97ff-45a0-87ad-8eb42bcb623f"
      },
      "execution_count": null,
      "outputs": [
        {
          "output_type": "display_data",
          "data": {
            "text/plain": [
              "<Figure size 1000x700 with 1 Axes>"
            ],
            "image/png": "[encoded data removed]"
          },
          "metadata": {}
        }
      ]
    },
    {
      "cell_type": "markdown",
      "source": [
        "# Build a PyTorch Model by subclassing nn.Module\n",
        "## 1. Inside should be a randomly initialized nn.Parameter() with requires_grad = True, one for weight and one for bias\n",
        "## 2. implement the forward() method to compute the linear regression function you used to create the dataset in 1\n",
        "## 3. Once you've constructed the model, make an instance of it and check its state_dict()\n",
        "## 4. Note: if you'd like to use nn.Linear() instead of  nn.Parameter() you can.\n",
        "\n",
        "def __init__(self):\n",
        "This defines the constructor (__init__ method) of a class.\n",
        "The __init__ method is automatically called when an instance (object) of the class is created.\n",
        "The parameter self refers to the instance of the class being initialized.\n",
        "\n",
        "\n",
        "super().__init__()\n",
        "The super() function calls the constructor (__init__ method) of the parent (super) class.\n",
        "This is useful when the class inherits from another class (i.e., it is a subclass).\n",
        "It ensures that the parent class's initialization logic is executed before adding any new behavior in the subclass. \"It is important to have this because we are using the parent class of nn.module\"\n",
        "\n",
        "\n",
        "self: Refers to the instance of the class.\n",
        "x: torch.Tensor: This specifies that x is expected to be a PyTorch tensor.\n",
        "-> torch.Tensor: This is a type hint indicating that the method is expected to return a PyTorch tensor.\n"
      ],
      "metadata": {
        "id": "ut1prvM9b2k9"
      }
    },
    {
      "cell_type": "markdown",
      "source": [],
      "metadata": {
        "id": "1NuLbYAieNVB"
      }
    },
    {
      "cell_type": "code",
      "source": [
        "\n",
        "\n",
        "class LinearRegressionModel(nn.Module):\n",
        "  def __init__(self):\n",
        "    super().__init__()\n",
        "    self.weights = nn.Parameter(torch.randn(1,# <- start with random weights (this will get adjusted as the model learns)\n",
        "    dtype=torch.float), # <- Pytorch works with float32 by default\n",
        "                                requires_grad=True)\n",
        "\n",
        "    self.bias = nn.Parameter(torch.randn(1, dtype=torch.float),\n",
        "                    requires_grad = True) # <- Stores tensors that can be used with nn.Module. If requires_grad=True gradients (used for updating model parameters via gradient descent) are calculated automatically, this is often referred to as \"autograd\".\n",
        "  # forward defines the computation in the model\n",
        "  def forward(self, x: torch.Tensor) -> torch.Tensor: # <- \"x\" is the input data(e.g. training / testing features)\n",
        "    return self.weights * x + self.bias # <- this is the linear regression formula (y = m*x + b)\n",
        "\n",
        "\n"
      ],
      "metadata": {
        "id": "cc1uUJhw0CLE"
      },
      "execution_count": 42,
      "outputs": []
    },
    {
      "cell_type": "code",
      "source": [
        "## Option 2\n",
        "class LinearRegressionModel(nn.module):\n",
        "  def __init__(self):\n",
        "    super().__init__()\n",
        "    self.linear_layer = nn.Linear(in_features=1,\n",
        "                                  out_features=1)\n",
        "\n",
        "  def forward(self, x:torch.Tensor) -> torch.Tensor:\n",
        "    return self.linear_layer(x)\n",
        "\n"
      ],
      "metadata": {
        "id": "lkMW2P4dgSzo"
      },
      "execution_count": null,
      "outputs": []
    },
    {
      "cell_type": "markdown",
      "source": [
        "#Instantiate the model and put it to the target device\n"
      ],
      "metadata": {
        "id": "xfkqLkEFhBTZ"
      }
    },
    {
      "cell_type": "code",
      "source": [
        "torch.manual_seed(42)\n",
        "my_model = LinearRegressionModel()\n",
        "my_model = my_model.to(device)\n",
        "\n",
        "my_model, my_model.state_dict()\n",
        "\n",
        "# Check the nn.Parameter(s) within the nn.Module subclass we created\n",
        "list(my_model.parameters())"
      ],
      "metadata": {
        "colab": {
          "base_uri": "https://localhost:8080/"
        },
        "id": "6e1W1lHfeQ7g",
        "outputId": "fbbbc3ec-e9d8-42d8-b445-38145d5911a2"
      },
      "execution_count": 43,
      "outputs": [
        {
          "output_type": "execute_result",
          "data": {
            "text/plain": [
              "[Parameter containing:\n",
              " tensor([0.3367], requires_grad=True),\n",
              " Parameter containing:\n",
              " tensor([0.1288], requires_grad=True)]"
            ]
          },
          "metadata": {},
          "execution_count": 43
        }
      ]
    },
    {
      "cell_type": "markdown",
      "source": [
        "#Create a loss function and optimizer using nn.L1Loss() and torch.optim.SGD(params, lr) respectively.\n",
        "\n",
        "Set the learning rate of the optimizer to be 0.01 and the parameters to optimize should be the model parameters from the model you created in 2.\n",
        "Write a training loop to perform the appropriate training steps for 300 epochs.\n",
        "The training loop should test the model on the test dataset every 20 epochs.\n",
        "\n",
        "\n",
        "\tWhat does it do?\n",
        "Loss function\tMeasures how wrong your model's predictions (e.g. y_preds) are compared to the truth labels (e.g. y_test). Lower the better.\n",
        "\n",
        "Optimizer\tTells your model how to update its internal parameters to best lower the loss."
      ],
      "metadata": {
        "id": "WhK0R2W0hDcd"
      }
    },
    {
      "cell_type": "markdown",
      "source": [],
      "metadata": {
        "id": "Druls8v5hPJB"
      }
    },
    {
      "cell_type": "code",
      "source": [
        "# Create the loss function and optimizer\n",
        "# Linear model so MAE Loss is used\n",
        "loss_fn = nn.L1Loss()\n",
        "\n",
        "\n",
        "#Create optimizer torch.optim.SGD(params, lr)\n",
        "optimizer = torch.optim.SGD(params = my_model.parameters(), # Parameters of target model to optimize\n",
        "                            lr = 0.01) # learning rate (how much the optimizer should change parameters at each step, higher = more (less stable), lower = less (might take a long time))"
      ],
      "metadata": {
        "id": "wyaIdnsxey-r"
      },
      "execution_count": 44,
      "outputs": []
    },
    {
      "cell_type": "code",
      "source": [
        "# Setup empty lists to keep track of model progress\n",
        "epoch_count = []\n",
        "train_loss_values = []\n",
        "test_loss_values = []\n",
        "\n",
        "# Training loop\n",
        "\n",
        "\n",
        "# Train model for 300 epochs\n",
        "epochs = 300\n",
        "\n",
        "# Send data to target device\n",
        "x_train = x_train.to(device)\n",
        "x_test = x_test.to(device)\n",
        "y_train = y_train.to(device)\n",
        "y_test = y_test.to(device)\n",
        "\n",
        "for epoch in range(epochs):\n",
        "  ### Training\n",
        "\n",
        "  # Put model in train mode\n",
        "  my_model.train()\n",
        "\n",
        "  # 1. Forward pass\n",
        "  y_predict = my_model(x_train)\n",
        "\n",
        "  # 2. Calculate loss\n",
        "  loss = loss_fn(y_predict, y_train)\n",
        "\n",
        "\n",
        "  # 3. Zero gradients\n",
        "  optimizer.zero_grad()\n",
        "\n",
        "  # 4. Backpropagation\n",
        "  loss.backward()\n",
        "\n",
        "\n",
        "  # 5. Step the optimizer\n",
        "  optimizer.step()\n",
        "\n",
        "  ### Perform testing every 20 epochs\n",
        "  if epoch % 20 == 0:\n",
        "\n",
        "    # Put model in evaluation mode and setup inference context\n",
        "    my_model.eval()\n",
        "    with torch.inference_mode():\n",
        "\n",
        "      # 1. Forward pass\n",
        "      test_pred = my_model(x_test)\n",
        "      # 2. Calculate test loss\n",
        "      test_loss = loss_fn(test_pred, y_test)\n",
        "      # Print out what's happening\n",
        "      print(f\"Epoch: {epoch} | Train loss: {loss:.3f} | Test loss: {test_loss:.3f}\")\n",
        "      # Print out what's happening\n",
        "\n",
        "      epoch_count.append(epoch)\n",
        "      train_loss_values.append(loss.detach().numpy())\n",
        "      test_loss_values.append(test_loss.detach().numpy())\n",
        ""
      ],
      "metadata": {
        "colab": {
          "base_uri": "https://localhost:8080/"
        },
        "id": "8uP4eVOIpm3Z",
        "outputId": "c5bb94dd-f18c-4628-d72c-05b32b0968e1"
      },
      "execution_count": 46,
      "outputs": [
        {
          "output_type": "stream",
          "name": "stdout",
          "text": [
            "Epoch: 0 | Train loss: 0.745 | Test loss: 0.711\n",
            "Epoch: 0 | MAE Train Loss: 0.745137631893158 | MAE Test Loss: 0.7112821340560913 \n",
            "Epoch: 20 | Train loss: 0.514 | Test loss: 0.441\n",
            "Epoch: 20 | MAE Train Loss: 0.5139325857162476 | MAE Test Loss: 0.4405772089958191 \n",
            "Epoch: 40 | Train loss: 0.283 | Test loss: 0.170\n",
            "Epoch: 40 | MAE Train Loss: 0.28272780776023865 | MAE Test Loss: 0.16987238824367523 \n",
            "Epoch: 60 | Train loss: 0.072 | Test loss: 0.079\n",
            "Epoch: 60 | MAE Train Loss: 0.07243101298809052 | MAE Test Loss: 0.07932551205158234 \n",
            "Epoch: 80 | Train loss: 0.052 | Test loss: 0.116\n",
            "Epoch: 80 | MAE Train Loss: 0.05217992514371872 | MAE Test Loss: 0.11574526876211166 \n",
            "Epoch: 100 | Train loss: 0.045 | Test loss: 0.104\n",
            "Epoch: 100 | MAE Train Loss: 0.04520002752542496 | MAE Test Loss: 0.10391416400671005 \n",
            "Epoch: 120 | Train loss: 0.038 | Test loss: 0.089\n",
            "Epoch: 120 | MAE Train Loss: 0.03834597021341324 | MAE Test Loss: 0.08861879259347916 \n",
            "Epoch: 140 | Train loss: 0.031 | Test loss: 0.073\n",
            "Epoch: 140 | MAE Train Loss: 0.03149183467030525 | MAE Test Loss: 0.0733230784535408 \n",
            "Epoch: 160 | Train loss: 0.025 | Test loss: 0.057\n",
            "Epoch: 160 | MAE Train Loss: 0.024639656767249107 | MAE Test Loss: 0.057339467108249664 \n",
            "Epoch: 180 | Train loss: 0.018 | Test loss: 0.041\n",
            "Epoch: 180 | MAE Train Loss: 0.017788181081414223 | MAE Test Loss: 0.041011910885572433 \n",
            "Epoch: 200 | Train loss: 0.011 | Test loss: 0.025\n",
            "Epoch: 200 | MAE Train Loss: 0.010936284437775612 | MAE Test Loss: 0.025028277188539505 \n",
            "Epoch: 220 | Train loss: 0.004 | Test loss: 0.009\n",
            "Epoch: 220 | MAE Train Loss: 0.004085513297468424 | MAE Test Loss: 0.008702951483428478 \n",
            "Epoch: 240 | Train loss: 0.008 | Test loss: 0.007\n",
            "Epoch: 240 | MAE Train Loss: 0.007858465425670147 | MAE Test Loss: 0.007045787759125233 \n",
            "Epoch: 260 | Train loss: 0.008 | Test loss: 0.007\n",
            "Epoch: 260 | MAE Train Loss: 0.007858465425670147 | MAE Test Loss: 0.007045787759125233 \n",
            "Epoch: 280 | Train loss: 0.008 | Test loss: 0.007\n",
            "Epoch: 280 | MAE Train Loss: 0.007858465425670147 | MAE Test Loss: 0.007045787759125233 \n"
          ]
        }
      ]
    },
    {
      "cell_type": "markdown",
      "source": [
        "#4. Make predictions with the trained model on the test data.\n",
        "\n",
        "Visualize these predictions against the original training and testing data (note: you may need to make sure the predictions are not on the GPU if you want to use non-CUDA-enabled libraries such as matplotlib to plot)."
      ],
      "metadata": {
        "id": "mn1u_mVHpmcL"
      }
    },
    {
      "cell_type": "code",
      "source": [
        "# Make predictions with the model\n",
        "my_model.eval()\n",
        "with torch.inference_mode():\n",
        "  test_predcition = my_model(x_test)\n",
        "test_predcition"
      ],
      "metadata": {
        "colab": {
          "base_uri": "https://localhost:8080/"
        },
        "id": "ceDhXBnexK_j",
        "outputId": "e2258d0e-d753-4097-b47b-bcef9c586285"
      },
      "execution_count": 64,
      "outputs": [
        {
          "output_type": "execute_result",
          "data": {
            "text/plain": [
              "tensor([[1.1333],\n",
              "        [1.1363],\n",
              "        [1.1393],\n",
              "        [1.1423],\n",
              "        [1.1454],\n",
              "        [1.1484],\n",
              "        [1.1514],\n",
              "        [1.1544],\n",
              "        [1.1575],\n",
              "        [1.1605],\n",
              "        [1.1635],\n",
              "        [1.1666],\n",
              "        [1.1696],\n",
              "        [1.1726],\n",
              "        [1.1756],\n",
              "        [1.1787],\n",
              "        [1.1817],\n",
              "        [1.1847],\n",
              "        [1.1877],\n",
              "        [1.1908]])"
            ]
          },
          "metadata": {},
          "execution_count": 64
        }
      ]
    },
    {
      "cell_type": "code",
      "source": [
        "plot_data(x_train,y_train, x_test, y_test, test_predcition)"
      ],
      "metadata": {
        "colab": {
          "base_uri": "https://localhost:8080/",
          "height": 599
        },
        "id": "P8DjXJGpxhX1",
        "outputId": "41f3bfcb-d273-4d8b-f077-830e3b1575d4"
      },
      "execution_count": 48,
      "outputs": [
        {
          "output_type": "display_data",
          "data": {
            "text/plain": [
              "<Figure size 1000x700 with 1 Axes>"
            ],
            "image/png": "[encoded data removed]"
          },
          "metadata": {}
        }
      ]
    },
    {
      "cell_type": "code",
      "source": [
        "# Plot the loss curves\n",
        "plt.plot(epoch_count, train_loss_values, label=\"Train loss\")\n",
        "plt.plot(epoch_count, test_loss_values, label=\"Test loss\")\n",
        "plt.title(\"Training and test loss curves\")\n",
        "plt.ylabel(\"Loss\")\n",
        "plt.xlabel(\"Epochs\")\n",
        "plt.legend();"
      ],
      "metadata": {
        "colab": {
          "base_uri": "https://localhost:8080/",
          "height": 472
        },
        "id": "3_zKUkM9x0KP",
        "outputId": "ad86765d-2e4f-4636-c5a0-3d74806e0f4f"
      },
      "execution_count": 47,
      "outputs": [
        {
          "output_type": "display_data",
          "data": {
            "text/plain": [
              "<Figure size 640x480 with 1 Axes>"
            ],
            "image/png": "[encoded data removed]"
          },
          "metadata": {}
        }
      ]
    },
    {
      "cell_type": "code",
      "source": [
        "# Find our model's learned parameters\n",
        "print(\"The model learned the following values for weights and bias:\")\n",
        "print(my_model.state_dict())\n",
        "print(\"\\nAnd the original values for weights and bias are:\")\n",
        "print(f\"weights: {weight}, bias: {bias}\")"
      ],
      "metadata": {
        "colab": {
          "base_uri": "https://localhost:8080/"
        },
        "id": "6zV15J-UziJa",
        "outputId": "d778a144-bac9-40a8-c8a4-a5a891a94be6"
      },
      "execution_count": 50,
      "outputs": [
        {
          "output_type": "stream",
          "name": "stdout",
          "text": [
            "The model learned the following values for weights and bias:\n",
            "OrderedDict([('weights', tensor([0.3027])), ('bias', tensor([0.8911]))])\n",
            "\n",
            "And the original values for weights and bias are:\n",
            "weights: 0.3, bias: 0.9\n"
          ]
        }
      ]
    },
    {
      "cell_type": "markdown",
      "source": [
        "#5. Save your trained model's state_dict() to file.\n",
        "\n",
        "Create a new instance of your model class you made in 2. and load in the state_dict() you just saved to it.\n",
        "Perform predictions on your test data with the loaded model and confirm they match the original model predictions from 4."
      ],
      "metadata": {
        "id": "NzWsqwp80SLm"
      }
    },
    {
      "cell_type": "code",
      "source": [
        "from pathlib import Path\n",
        "\n",
        "# 1. Create models directory\n",
        "MODEL_PATH = Path(\"models\")\n",
        "MODEL_PATH.mkdir(parents = True, exist_ok = True)\n",
        "\n",
        "# 2. Create model save path\n",
        "MODEL_NAME = \"01_pytorch_workflow_my_model_Exercises.pth\"\n",
        "MODEL_SAVE_PATH = MODEL_PATH / MODEL_NAME\n",
        "\n",
        "# 3. Save the model state dict\n",
        "print(f\"Saving model to :{MODEL_SAVE_PATH}\")\n",
        "torch.save(obj =  my_model.state_dict(), # only saving the state_dict() onlu saves the models learned parameters\n",
        "           f = MODEL_SAVE_PATH)"
      ],
      "metadata": {
        "colab": {
          "base_uri": "https://localhost:8080/"
        },
        "id": "uQI3wnQw0Uq0",
        "outputId": "247ccac4-02c8-4c1d-f007-fd030c77a246"
      },
      "execution_count": 54,
      "outputs": [
        {
          "output_type": "stream",
          "name": "stdout",
          "text": [
            "Saving model to :models/01_pytorch_workflow_my_model_Exercises.pth\n"
          ]
        }
      ]
    },
    {
      "cell_type": "code",
      "source": [
        "ls -l models/01_pytorch_workflow_my_model_Exercises.pth"
      ],
      "metadata": {
        "colab": {
          "base_uri": "https://localhost:8080/"
        },
        "id": "c19oyO-01akw",
        "outputId": "363755e8-ddac-4256-d967-9399d8932f62"
      },
      "execution_count": 55,
      "outputs": [
        {
          "output_type": "stream",
          "name": "stdout",
          "text": [
            "-rw-r--r-- 1 root root 1810 Mar 11 15:33 models/01_pytorch_workflow_my_model_Exercises.pth\n"
          ]
        }
      ]
    },
    {
      "cell_type": "markdown",
      "source": [
        "# Updated Code to Save Model to Google Drive\n"
      ],
      "metadata": {
        "id": "hfXsIuEE2JB9"
      }
    },
    {
      "cell_type": "code",
      "source": [
        "\n",
        "from google.colab import drive\n",
        "\n",
        "# 1. Mount Google Drive\n",
        "drive.mount('/content/drive')\n",
        "\n",
        "# 2. Create a directory in Google Drive for models\n",
        "MODEL_PATH = Path(\"/content/drive/MyDrive/models\")  # Saves inside your Google Drive\n",
        "MODEL_PATH.mkdir(parents=True, exist_ok=True)\n",
        "\n",
        "# 3. Define model file name\n",
        "MODEL_NAME = \"01_pytorch_workflow_model_0.pth\"\n",
        "MODEL_SAVE_PATH = MODEL_PATH / MODEL_NAME\n",
        "\n",
        "# 4. Save the model state dict\n",
        "print(f\"Saving model to: {MODEL_SAVE_PATH}\")\n",
        "torch.save(obj=my_model.state_dict(),  # Saving only the model's learned parameters\n",
        "           f=MODEL_SAVE_PATH)\n",
        "\n",
        "print(f\"Model saved successfully at: {MODEL_SAVE_PATH}\")\n"
      ],
      "metadata": {
        "colab": {
          "base_uri": "https://localhost:8080/"
        },
        "id": "Q5M8-WE81tVJ",
        "outputId": "15cff96c-3126-4d5a-e098-2eeb43d45868"
      },
      "execution_count": 57,
      "outputs": [
        {
          "output_type": "stream",
          "name": "stdout",
          "text": [
            "Drive already mounted at /content/drive; to attempt to forcibly remount, call drive.mount(\"/content/drive\", force_remount=True).\n",
            "Saving model to: /content/drive/MyDrive/models/01_pytorch_workflow_model_0.pth\n",
            "Model saved successfully at: /content/drive/MyDrive/models/01_pytorch_workflow_model_0.pth\n"
          ]
        }
      ]
    },
    {
      "cell_type": "markdown",
      "source": [
        "#How to Load the Model from Google Drive?\n",
        "If you want to reload the model in another session:"
      ],
      "metadata": {
        "id": "fDOsZVPn2UR9"
      }
    },
    {
      "cell_type": "code",
      "source": [
        "# Mount Google Drive\n",
        "drive.mount('/content/drive')\n",
        "\n",
        "# Load model from Google Drive\n",
        "MODEL_LOAD_PATH = \"/content/drive/MyDrive/models/01_pytorch_workflow_model_0.pth\"\n",
        "my_model.load_state_dict(torch.load(MODEL_LOAD_PATH))\n",
        "\n",
        "print(\"Model loaded successfully!\")\n"
      ],
      "metadata": {
        "colab": {
          "base_uri": "https://localhost:8080/"
        },
        "id": "AXaEJcCm2Vfq",
        "outputId": "3137ccb4-82fa-4d59-b005-fd49648fc6a7"
      },
      "execution_count": 59,
      "outputs": [
        {
          "output_type": "stream",
          "name": "stdout",
          "text": [
            "Drive already mounted at /content/drive; to attempt to forcibly remount, call drive.mount(\"/content/drive\", force_remount=True).\n",
            "Model loaded successfully!\n"
          ]
        },
        {
          "output_type": "stream",
          "name": "stderr",
          "text": [
            "<ipython-input-59-e10882be8c48>:6: FutureWarning: You are using `torch.load` with `weights_only=False` (the current default value), which uses the default pickle module implicitly. It is possible to construct malicious pickle data which will execute arbitrary code during unpickling (See https://github.com/pytorch/pytorch/blob/main/SECURITY.md#untrusted-models for more details). In a future release, the default value for `weights_only` will be flipped to `True`. This limits the functions that could be executed during unpickling. Arbitrary objects will no longer be allowed to be loaded via this mode unless they are explicitly allowlisted by the user via `torch.serialization.add_safe_globals`. We recommend you start setting `weights_only=True` for any use case where you don't have full control of the loaded file. Please open an issue on GitHub for any issues related to this experimental feature.\n",
            "  my_model.load_state_dict(torch.load(MODEL_LOAD_PATH))\n"
          ]
        }
      ]
    },
    {
      "cell_type": "code",
      "source": [
        "# Create new instance of model and load saved state dict (make sure to put it on the target device)\n",
        "\n",
        "\n",
        "loaded_model = LinearRegressionModel()\n",
        "loaded_model.load_state_dict(torch.load(f = MODEL_LOAD_PATH))"
      ],
      "metadata": {
        "colab": {
          "base_uri": "https://localhost:8080/"
        },
        "id": "65xmQNq43KGe",
        "outputId": "ab55fc17-de22-48d3-ae78-72e1187c8190"
      },
      "execution_count": 60,
      "outputs": [
        {
          "output_type": "stream",
          "name": "stderr",
          "text": [
            "<ipython-input-60-ba9ed308d7fc>:5: FutureWarning: You are using `torch.load` with `weights_only=False` (the current default value), which uses the default pickle module implicitly. It is possible to construct malicious pickle data which will execute arbitrary code during unpickling (See https://github.com/pytorch/pytorch/blob/main/SECURITY.md#untrusted-models for more details). In a future release, the default value for `weights_only` will be flipped to `True`. This limits the functions that could be executed during unpickling. Arbitrary objects will no longer be allowed to be loaded via this mode unless they are explicitly allowlisted by the user via `torch.serialization.add_safe_globals`. We recommend you start setting `weights_only=True` for any use case where you don't have full control of the loaded file. Please open an issue on GitHub for any issues related to this experimental feature.\n",
            "  loaded_model.load_state_dict(torch.load(f = MODEL_LOAD_PATH))\n"
          ]
        },
        {
          "output_type": "execute_result",
          "data": {
            "text/plain": [
              "<All keys matched successfully>"
            ]
          },
          "metadata": {},
          "execution_count": 60
        }
      ]
    },
    {
      "cell_type": "code",
      "source": [
        "loaded_model.to(device)"
      ],
      "metadata": {
        "colab": {
          "base_uri": "https://localhost:8080/"
        },
        "id": "DHRxjUAq3hoz",
        "outputId": "180e2e18-4cb8-4908-a5c3-c3af984b2c77"
      },
      "execution_count": 61,
      "outputs": [
        {
          "output_type": "execute_result",
          "data": {
            "text/plain": [
              "LinearRegressionModel()"
            ]
          },
          "metadata": {},
          "execution_count": 61
        }
      ]
    },
    {
      "cell_type": "code",
      "source": [
        "y_predict_new = loaded_model(x_test)\n",
        "test_predcition == y_predict_new"
      ],
      "metadata": {
        "colab": {
          "base_uri": "https://localhost:8080/"
        },
        "id": "9m2UwYgK3oRh",
        "outputId": "1cb86004-c4e8-4269-cfcd-fec8dd41c79e"
      },
      "execution_count": 66,
      "outputs": [
        {
          "output_type": "execute_result",
          "data": {
            "text/plain": [
              "tensor([[True],\n",
              "        [True],\n",
              "        [True],\n",
              "        [True],\n",
              "        [True],\n",
              "        [True],\n",
              "        [True],\n",
              "        [True],\n",
              "        [True],\n",
              "        [True],\n",
              "        [True],\n",
              "        [True],\n",
              "        [True],\n",
              "        [True],\n",
              "        [True],\n",
              "        [True],\n",
              "        [True],\n",
              "        [True],\n",
              "        [True],\n",
              "        [True]])"
            ]
          },
          "metadata": {},
          "execution_count": 66
        }
      ]
    },
    {
      "cell_type": "code",
      "source": [],
      "metadata": {
        "id": "dCZpSk0f33bM"
      },
      "execution_count": null,
      "outputs": []
    }
  ]
}