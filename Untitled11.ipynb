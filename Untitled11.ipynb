{
  "nbformat": 4,
  "nbformat_minor": 0,
  "metadata": {
    "colab": {
      "provenance": [],
      "include_colab_link": true
    },
    "kernelspec": {
      "name": "python3",
      "display_name": "Python 3"
    },
    "language_info": {
      "name": "python"
    }
  },
  "cells": [
    {
      "cell_type": "markdown",
      "metadata": {
        "id": "view-in-github",
        "colab_type": "text"
      },
      "source": [
        "<a href=\"https://colab.research.google.com/github/Farahnosh-Yousofi/PyTorch-Tutorials/blob/main/Untitled11.ipynb\" target=\"_parent\"><img src=\"https://colab.research.google.com/assets/colab-badge.svg\" alt=\"Open In Colab\"/></a>"
      ]
    },
    {
      "cell_type": "code",
      "execution_count": null,
      "metadata": {
        "colab": {
          "base_uri": "https://localhost:8080/"
        },
        "id": "RIWQ_Xov0PL8",
        "outputId": "deac00a7-c55b-47a7-969b-3eeb0bc93b41"
      },
      "outputs": [
        {
          "output_type": "stream",
          "name": "stdout",
          "text": [
            "Writing mixcolumns.c\n"
          ]
        }
      ],
      "source": [
        "\n",
        "%%writefile mixcolumns.c\n",
        "#include <stdio.h>\n",
        "\n",
        "void gmix_column(unsigned char *r) {\n",
        "    unsigned char a[4];\n",
        "    unsigned char b[4];\n",
        "    unsigned char c;\n",
        "    unsigned char h;\n",
        "\n",
        "    for (c = 0; c < 4; c++) {\n",
        "        a[c] = r[c]; // Store original column\n",
        "        h = r[c] >> 7; // Check if high bit is set\n",
        "        b[c] = (r[c] << 1) ^ (h * 0x1B); // Multiply by 2 in GF(2^8)\n",
        "    }\n",
        "\n",
        "    r[0] = b[0] ^ a[3] ^ a[2] ^ b[1] ^ a[1]; // 2*a0 + 3*a1 + 1*a2 + 1*a3\n",
        "    r[1] = b[1] ^ a[0] ^ a[3] ^ b[2] ^ a[2]; // 1*a0 + 2*a1 + 3*a2 + 1*a3\n",
        "    r[2] = b[2] ^ a[1] ^ a[0] ^ b[3] ^ a[3]; // 1*a0 + 1*a1 + 2*a2 + 3*a3\n",
        "    r[3] = b[3] ^ a[2] ^ a[1] ^ b[0] ^ a[0]; // 3*a0 + 1*a1 + 1*a2 + 2*a3\n",
        "}\n",
        "\n",
        "void print_matrix(unsigned char state[4][4]) {\n",
        "    for (int i = 0; i < 4; i++) {\n",
        "        for (int j = 0; j < 4; j++) {\n",
        "            printf(\"%02X \", state[i][j]);\n",
        "        }\n",
        "        printf(\"\\n\");\n",
        "    }\n",
        "}\n",
        "\n",
        "int main() {\n",
        "    unsigned char state[4][4] = {\n",
        "        {0x7C, 0x6B, 0x01, 0xD7},\n",
        "        {0xF2, 0x30, 0xFE, 0x63},\n",
        "        {0x2B, 0x76, 0x7B, 0xC5},\n",
        "        {0xAB, 0x77, 0x6F, 0x67}\n",
        "    };\n",
        "\n",
        "    unsigned char column[4];\n",
        "\n",
        "    // Apply MixColumns transformation to each column\n",
        "    for (int i = 0; i < 4; i++) {\n",
        "        // Extract the i-th column\n",
        "        for (int j = 0; j < 4; j++) {\n",
        "            column[j] = state[j][i];\n",
        "        }\n",
        "\n",
        "        // Apply MixColumns to the extracted column\n",
        "        gmix_column(column);\n",
        "\n",
        "        // Store back the transformed column\n",
        "        for (int j = 0; j < 4; j++) {\n",
        "            state[j][i] = column[j];\n",
        "        }\n",
        "    }\n",
        "\n",
        "    printf(\"\\nAfter MixColumns Transformation:\\n\");\n",
        "    print_matrix(state);\n",
        "\n",
        "    return 0;\n",
        "}\n"
      ]
    },
    {
      "cell_type": "code",
      "source": [
        "!gcc mixcolumns.c -o mixcolumns"
      ],
      "metadata": {
        "id": "dWkRIoHb0bUE"
      },
      "execution_count": null,
      "outputs": []
    },
    {
      "cell_type": "code",
      "source": [
        "!./mixcolumns"
      ],
      "metadata": {
        "colab": {
          "base_uri": "https://localhost:8080/"
        },
        "id": "3eVixnpL0e1b",
        "outputId": "f0b8a009-0e55-46cf-ad51-8096a8211baa"
      },
      "execution_count": null,
      "outputs": [
        {
          "output_type": "stream",
          "name": "stdout",
          "text": [
            "\n",
            "After MixColumns Transformation:\n",
            "75 87 0F B2 \n",
            "55 E6 04 22 \n",
            "3E 2E B8 8C \n",
            "10 15 58 0A \n"
          ]
        }
      ]
    },
    {
      "cell_type": "code",
      "source": [
        "def gmul(a, b):\n",
        "    \"\"\" Perform multiplication in GF(2^8) using Rijndael's finite field \"\"\"\n",
        "    if b == 1:\n",
        "        return a\n",
        "    elif b == 2:\n",
        "        return ((a << 1) & 0xFF) ^ (0x1B if a & 0x80 else 0x00)\n",
        "    elif b == 3:\n",
        "        return gmul(a, 2) ^ a  # 3*a = (2*a) ⊕ a\n",
        "\n",
        "def mixColumns(a, b, c, d):\n",
        "    \"\"\" Apply AES MixColumns transformation to a single column \"\"\"\n",
        "    return [\n",
        "        gmul(a, 2) ^ gmul(b, 3) ^ gmul(c, 1) ^ gmul(d, 1),\n",
        "        gmul(a, 1) ^ gmul(b, 2) ^ gmul(c, 3) ^ gmul(d, 1),\n",
        "        gmul(a, 1) ^ gmul(b, 1) ^ gmul(c, 2) ^ gmul(d, 3),\n",
        "        gmul(a, 3) ^ gmul(b, 1) ^ gmul(c, 1) ^ gmul(d, 2)\n",
        "    ]\n",
        "\n",
        "def printHex(vals):\n",
        "    \"\"\" Print values in hexadecimal format \"\"\"\n",
        "    print(\" \".join('{:02x}'.format(v) for v in vals))\n",
        "\n",
        "# Test vectors from https://en.wikipedia.org/wiki/Rijndael_MixColumns#Test_vectors_for_MixColumn()\n",
        "test_cases = [\n",
        "\n",
        "    (0x7c, 0xf2, 0x2b, 0xab),  # Expected: 0xX 0xY 0xW 0xZ it will print the column values in this format\n",
        "    (0x6b, 0x30, 0x76, 0x77),\n",
        "    (0x01, 0xfe, 0x7b, 0x67),\n",
        "    (0xdf, 0x63, 0xc5, 0x2b)\n",
        "]\n",
        "\n",
        "print(\"AES MixColumns Test Results:\")\n",
        "for test in test_cases:\n",
        "    printHex(mixColumns(*test))"
      ],
      "metadata": {
        "colab": {
          "base_uri": "https://localhost:8080/"
        },
        "id": "CCaK2guz00w_",
        "outputId": "a819f591-19dc-4a50-ba2f-54564ae9cd34"
      },
      "execution_count": null,
      "outputs": [
        {
          "output_type": "stream",
          "name": "stdout",
          "text": [
            "AES MixColumns Test Results:\n",
            "75 55 3e 10\n",
            "87 e6 2e 15\n",
            "07 0c a0 48\n",
            "ee 66 50 8a\n"
          ]
        }
      ]
    }
  ]
}