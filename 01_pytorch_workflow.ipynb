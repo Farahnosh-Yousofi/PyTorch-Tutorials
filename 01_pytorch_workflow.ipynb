{
  "nbformat": 4,
  "nbformat_minor": 0,
  "metadata": {
    "colab": {
      "provenance": [],
      "authorship_tag": "ABX9TyONVNh8GvJyiC1NREA6Cmk7",
      "include_colab_link": true
    },
    "kernelspec": {
      "name": "python3",
      "display_name": "Python 3"
    },
    "language_info": {
      "name": "python"
    }
  },
  "cells": [
    {
      "cell_type": "markdown",
      "metadata": {
        "id": "view-in-github",
        "colab_type": "text"
      },
      "source": [
        "<a href=\"https://colab.research.google.com/github/Farahnosh-Yousofi/PyTorch-Tutorials/blob/main/01_pytorch_workflow.ipynb\" target=\"_parent\"><img src=\"https://colab.research.google.com/assets/colab-badge.svg\" alt=\"Open In Colab\"/></a>"
      ]
    },
    {
      "cell_type": "markdown",
      "source": [
        "Learned and worked by following codes and explanations in https://github.com/mrdbourke/pytorch-deep-learning/blob/main/01_pytorch_workflow.ipynb"
      ],
      "metadata": {
        "id": "k-dZvu-BU-tJ"
      }
    },
    {
      "cell_type": "code",
      "execution_count": 171,
      "metadata": {
        "id": "-qGELMWSeRZT"
      },
      "outputs": [],
      "source": [
        "import torch\n",
        "from torch import nn\n",
        "import matplotlib.pyplot as plt\n",
        "\n"
      ]
    },
    {
      "cell_type": "code",
      "source": [
        "# Data preparing and loading\n",
        "# We'll use a linear regression formula to make straight line with known parameters\n",
        "\n",
        "weight = 0.7\n",
        "bias = 0.3\n",
        "\n",
        "# create\n",
        "start = 0\n",
        "end = 1\n",
        "step = 0.02\n",
        "X = torch.arange(0,1, step).unsqueeze(dim = 1)\n",
        "Y = bias + weight*X"
      ],
      "metadata": {
        "id": "hZGkiuD7gXtz"
      },
      "execution_count": 172,
      "outputs": []
    },
    {
      "cell_type": "code",
      "source": [
        "Y"
      ],
      "metadata": {
        "colab": {
          "base_uri": "https://localhost:8080/"
        },
        "id": "KOjx73EJiOOP",
        "outputId": "5d84b44c-a65e-46f2-c00e-e7ac466fcc15"
      },
      "execution_count": 173,
      "outputs": [
        {
          "output_type": "execute_result",
          "data": {
            "text/plain": [
              "tensor([[0.3000],\n",
              "        [0.3140],\n",
              "        [0.3280],\n",
              "        [0.3420],\n",
              "        [0.3560],\n",
              "        [0.3700],\n",
              "        [0.3840],\n",
              "        [0.3980],\n",
              "        [0.4120],\n",
              "        [0.4260],\n",
              "        [0.4400],\n",
              "        [0.4540],\n",
              "        [0.4680],\n",
              "        [0.4820],\n",
              "        [0.4960],\n",
              "        [0.5100],\n",
              "        [0.5240],\n",
              "        [0.5380],\n",
              "        [0.5520],\n",
              "        [0.5660],\n",
              "        [0.5800],\n",
              "        [0.5940],\n",
              "        [0.6080],\n",
              "        [0.6220],\n",
              "        [0.6360],\n",
              "        [0.6500],\n",
              "        [0.6640],\n",
              "        [0.6780],\n",
              "        [0.6920],\n",
              "        [0.7060],\n",
              "        [0.7200],\n",
              "        [0.7340],\n",
              "        [0.7480],\n",
              "        [0.7620],\n",
              "        [0.7760],\n",
              "        [0.7900],\n",
              "        [0.8040],\n",
              "        [0.8180],\n",
              "        [0.8320],\n",
              "        [0.8460],\n",
              "        [0.8600],\n",
              "        [0.8740],\n",
              "        [0.8880],\n",
              "        [0.9020],\n",
              "        [0.9160],\n",
              "        [0.9300],\n",
              "        [0.9440],\n",
              "        [0.9580],\n",
              "        [0.9720],\n",
              "        [0.9860]])"
            ]
          },
          "metadata": {},
          "execution_count": 173
        }
      ]
    },
    {
      "cell_type": "code",
      "source": [
        "X[:10], Y[:10], len(X), len(Y)"
      ],
      "metadata": {
        "colab": {
          "base_uri": "https://localhost:8080/"
        },
        "id": "OLDPaLWViVlq",
        "outputId": "6b76ad4c-eebe-44c3-8432-be87c57500c4"
      },
      "execution_count": 174,
      "outputs": [
        {
          "output_type": "execute_result",
          "data": {
            "text/plain": [
              "(tensor([[0.0000],\n",
              "         [0.0200],\n",
              "         [0.0400],\n",
              "         [0.0600],\n",
              "         [0.0800],\n",
              "         [0.1000],\n",
              "         [0.1200],\n",
              "         [0.1400],\n",
              "         [0.1600],\n",
              "         [0.1800]]),\n",
              " tensor([[0.3000],\n",
              "         [0.3140],\n",
              "         [0.3280],\n",
              "         [0.3420],\n",
              "         [0.3560],\n",
              "         [0.3700],\n",
              "         [0.3840],\n",
              "         [0.3980],\n",
              "         [0.4120],\n",
              "         [0.4260]]),\n",
              " 50,\n",
              " 50)"
            ]
          },
          "metadata": {},
          "execution_count": 174
        }
      ]
    },
    {
      "cell_type": "code",
      "source": [
        "# Train and test split of our data\n",
        "train_split = int(0.8*len(X))\n",
        "train_split_data, train_split_labels = X[:train_split], Y[:train_split] ## Means all data till train split\n",
        "train_split_data\n",
        "\n",
        "test_split_data, test_split_labels = X[train_split:], Y[train_split:]"
      ],
      "metadata": {
        "id": "xkZS2EK1ihE-"
      },
      "execution_count": 175,
      "outputs": []
    },
    {
      "cell_type": "code",
      "source": [
        "len(train_split_data),len(train_split_labels)"
      ],
      "metadata": {
        "colab": {
          "base_uri": "https://localhost:8080/"
        },
        "id": "zVzveJ8ykMFw",
        "outputId": "d3fad14e-a7fd-40c5-e75f-2954bab6b6e9"
      },
      "execution_count": 176,
      "outputs": [
        {
          "output_type": "execute_result",
          "data": {
            "text/plain": [
              "(40, 40)"
            ]
          },
          "metadata": {},
          "execution_count": 176
        }
      ]
    },
    {
      "cell_type": "code",
      "source": [
        "\n",
        "#How to visualize out data\n",
        "\n",
        "def plot_predict(train_data =train_split_data,\n",
        "                 train_label = train_split_labels,\n",
        "                 test_data = test_split_data,\n",
        "                 test_labels = test_split_labels,\n",
        "                 predictions = None):\n",
        "  '''\n",
        "  Plots training data and test data and compares pridections\n",
        "  '''\n",
        "  plt.figure(figsize = (10,7))\n",
        "\n",
        "  #plot training data in blue\n",
        "  plt.scatter(train_data, train_label, c = \"b\", s =4, label = \"Training data\")\n",
        "\n",
        "  #plot test data in red\n",
        "  plt.scatter(test_data, test_labels, c = \"g\", s =4, label = \"Test data\")\n",
        "\n",
        "  # Are there predictions\n",
        "  if predictions is not None:\n",
        "    #Plot the predictions if they exist\n",
        "    plt.scatter(test_data, predictions, c=\"r\", label=\"Predictions for test data\")\n",
        "\n",
        "  # show the legend\n",
        "  plt.legend(prop={\"size\":14})\n",
        "\n",
        "\n"
      ],
      "metadata": {
        "id": "XU0uRl5klYZG"
      },
      "execution_count": 177,
      "outputs": []
    },
    {
      "cell_type": "code",
      "source": [
        "plot_predict(train_split_data,train_split_labels,test_split_data, test_split_labels)"
      ],
      "metadata": {
        "id": "oC0ouaqjlopE",
        "colab": {
          "base_uri": "https://localhost:8080/",
          "height": 599
        },
        "outputId": "0431332f-c080-4990-84cd-c9edfa2adea3"
      },
      "execution_count": 150,
      "outputs": [
        {
          "output_type": "display_data",
          "data": {
            "text/plain": [
              "<Figure size 1000x700 with 1 Axes>"
            ],
            "image/png": "[encoded data removed]"
          },
          "metadata": {}
        }
      ]
    },
    {
      "cell_type": "code",
      "source": [
        "# Build Pytorch Model\n",
        "class LinearRegressionModel(nn.Module):\n",
        "  def __init__(self):\n",
        "    super().__init__()\n",
        "    self.weights = nn.Parameter(torch.randn(1,\n",
        "                                            requires_grad = True,\n",
        "                                            dtype = torch.float))\n",
        "\n",
        "    self.bias = nn.Parameter(torch.randn(1,\n",
        "                                         requires_grad=True,\n",
        "                                         dtype = torch.float))\n",
        "\n",
        "  # Forward method to define the computation in the model\n",
        "  def forward(self, x: torch.Tensor) -> torch.Tensor:\n",
        "    return self.weights*x+self.bias # Linear Regression formula\n",
        "\n"
      ],
      "metadata": {
        "id": "GjkL2qOQrOFi"
      },
      "execution_count": 178,
      "outputs": []
    },
    {
      "cell_type": "markdown",
      "source": [
        "**Check the content of out module**"
      ],
      "metadata": {
        "id": "jDzCE-EaIXai"
      }
    },
    {
      "cell_type": "code",
      "source": [
        "## PyTorch model building essentials\n",
        "## Checking the contents of out pytorch model\n",
        "# create a random seed\n",
        "\n",
        "torch.manual_seed(42)\n",
        "\n",
        "#Create an instance of the model(this is the subclass of nn.Module)\n",
        "module_instance = LinearRegressionModel()\n",
        "\n",
        "# Checking the model parameters\n",
        "list(module_instance.parameters())\n"
      ],
      "metadata": {
        "colab": {
          "base_uri": "https://localhost:8080/"
        },
        "id": "94GHZH1oIdvM",
        "outputId": "ea7a49a5-e8b0-45ba-b461-0fd8beb7179f"
      },
      "execution_count": 179,
      "outputs": [
        {
          "output_type": "execute_result",
          "data": {
            "text/plain": [
              "[Parameter containing:\n",
              " tensor([0.3367], requires_grad=True),\n",
              " Parameter containing:\n",
              " tensor([0.1288], requires_grad=True)]"
            ]
          },
          "metadata": {},
          "execution_count": 179
        }
      ]
    },
    {
      "cell_type": "code",
      "source": [
        "## Checking the parameters as list named parameters\n",
        "module_instance.state_dict()"
      ],
      "metadata": {
        "colab": {
          "base_uri": "https://localhost:8080/"
        },
        "id": "DSx--WbALCna",
        "outputId": "61803093-c05a-4c1a-a36f-ef722ebac0d7"
      },
      "execution_count": 180,
      "outputs": [
        {
          "output_type": "execute_result",
          "data": {
            "text/plain": [
              "OrderedDict([('weights', tensor([0.3367])), ('bias', tensor([0.1288]))])"
            ]
          },
          "metadata": {},
          "execution_count": 180
        }
      ]
    },
    {
      "cell_type": "code",
      "source": [
        "weight, bias"
      ],
      "metadata": {
        "colab": {
          "base_uri": "https://localhost:8080/"
        },
        "id": "caDyEsSJMd00",
        "outputId": "da2582b1-1e88-496a-b479-81b94a60209e"
      },
      "execution_count": 181,
      "outputs": [
        {
          "output_type": "execute_result",
          "data": {
            "text/plain": [
              "(0.7, 0.3)"
            ]
          },
          "metadata": {},
          "execution_count": 181
        }
      ]
    },
    {
      "cell_type": "code",
      "source": [
        "## Testing our model with torch.inference_mode()\n",
        "# make predictions\n",
        "with torch.inference_mode():\n",
        "  predict = module_instance(test_split_data)\n",
        "\n",
        "predict"
      ],
      "metadata": {
        "colab": {
          "base_uri": "https://localhost:8080/"
        },
        "id": "cudbOYzzMlrh",
        "outputId": "65af2fdc-d028-4d95-ea89-332a6dcca63d"
      },
      "execution_count": 182,
      "outputs": [
        {
          "output_type": "execute_result",
          "data": {
            "text/plain": [
              "tensor([[0.3982],\n",
              "        [0.4049],\n",
              "        [0.4116],\n",
              "        [0.4184],\n",
              "        [0.4251],\n",
              "        [0.4318],\n",
              "        [0.4386],\n",
              "        [0.4453],\n",
              "        [0.4520],\n",
              "        [0.4588]])"
            ]
          },
          "metadata": {},
          "execution_count": 182
        }
      ]
    },
    {
      "cell_type": "code",
      "source": [
        "test_split_labels"
      ],
      "metadata": {
        "colab": {
          "base_uri": "https://localhost:8080/"
        },
        "id": "IWn_zoeDOn-w",
        "outputId": "84c2df6c-6c09-4713-9ec2-1d31c5ae8b5d"
      },
      "execution_count": 183,
      "outputs": [
        {
          "output_type": "execute_result",
          "data": {
            "text/plain": [
              "tensor([[0.8600],\n",
              "        [0.8740],\n",
              "        [0.8880],\n",
              "        [0.9020],\n",
              "        [0.9160],\n",
              "        [0.9300],\n",
              "        [0.9440],\n",
              "        [0.9580],\n",
              "        [0.9720],\n",
              "        [0.9860]])"
            ]
          },
          "metadata": {},
          "execution_count": 183
        }
      ]
    },
    {
      "cell_type": "code",
      "source": [
        "plot_predict(predictions=predict)"
      ],
      "metadata": {
        "colab": {
          "base_uri": "https://localhost:8080/",
          "height": 599
        },
        "id": "Rt60Rw2JPKEN",
        "outputId": "a6ac6261-0503-4fa7-f92c-050e28284169"
      },
      "execution_count": 184,
      "outputs": [
        {
          "output_type": "display_data",
          "data": {
            "text/plain": [
              "<Figure size 1000x700 with 1 Axes>"
            ],
            "image/png": "[encoded data removed]"
          },
          "metadata": {}
        }
      ]
    },
    {
      "cell_type": "code",
      "source": [
        "predict = module_instance(test_split_data)\n",
        "predict"
      ],
      "metadata": {
        "colab": {
          "base_uri": "https://localhost:8080/"
        },
        "id": "dmBJF008PSfs",
        "outputId": "13d720c9-8596-4ada-fa6a-615225bf773a"
      },
      "execution_count": 185,
      "outputs": [
        {
          "output_type": "execute_result",
          "data": {
            "text/plain": [
              "tensor([[0.3982],\n",
              "        [0.4049],\n",
              "        [0.4116],\n",
              "        [0.4184],\n",
              "        [0.4251],\n",
              "        [0.4318],\n",
              "        [0.4386],\n",
              "        [0.4453],\n",
              "        [0.4520],\n",
              "        [0.4588]], grad_fn=<AddBackward0>)"
            ]
          },
          "metadata": {},
          "execution_count": 185
        }
      ]
    },
    {
      "cell_type": "markdown",
      "source": [
        "Use inference mode to just get the predictions and ignore the gradient watching"
      ],
      "metadata": {
        "id": "2lZcmhVuSTCw"
      }
    },
    {
      "cell_type": "code",
      "source": [
        "## Setting up a loss function to fit the model to the data\n",
        "\n",
        "# MAE_Loss = torch.mean(torch.abs(predict - test_split_labels))\n",
        "loss_fn = nn.L1Loss()\n",
        "\n",
        "\n",
        "## Set up an optimizer to minimize loss\n",
        "optimizer = torch.optim.SGD(params = module_instance.parameters(), lr = 0.01)  # lr = learning rate"
      ],
      "metadata": {
        "id": "iGMIBHd4SMdG"
      },
      "execution_count": 186,
      "outputs": []
    },
    {
      "cell_type": "markdown",
      "source": [
        "# Building a training loop and a testing loop in pytorch\n",
        "A couple of things we need in a training loop\n",
        "1. Loop through the data\n",
        "2. Forward pass(This involves data moving throug our model's 'forward()' function ) to make predictions on data- also called forward propagation\n",
        "3. calculate the loss(compare forward pass predictions to groung truth labels)\n",
        "4. optimizer zero grad\n",
        "5. Loss Backward - move backwards through the network to calculate the gradients of each parameters of our model with respect to the loss(**Backpropagations**)\n",
        "6. Optimizer step: use the optimizer to adjust our models parameters to try and improve the loss (**Gradient Descent**)"
      ],
      "metadata": {
        "id": "fePo_1xVZpUt"
      }
    },
    {
      "cell_type": "code",
      "source": [
        "epochs = 1  # one loop through data\n",
        "\n",
        "# 1. Loop through the data\n",
        "for epoch in range(epochs):\n",
        "  #Set the model to training mode\n",
        "  module_instance.train() # Train mode in PyTorch set all parameter that reuire gradient to require gadient\n",
        "\n",
        "  # 2. Forward pass\n",
        "  Y_pred = module_instance(train_split_data)\n",
        "\n",
        "  # 3. Calculate the loss\n",
        "  loss = loss_fn(Y_pred, train_split_labels)\n",
        "  print(f'loss: {loss}')\n",
        "\n",
        "  # 4. optimizer zero grad\n",
        "\n",
        "  optimizer.zero_grad()\n",
        "\n",
        "  # 5. Perform back propagation with respect to the parameters of the model\n",
        "  loss.backward()\n",
        "\n",
        "  # 6. Step the optimizer (Perform Gradient Descent)\n",
        "  optimizer.step()\n",
        "\n",
        "  # Testing\n",
        "  module_instance.eval()\n",
        "\n",
        "  print(module_instance.state_dict())"
      ],
      "metadata": {
        "colab": {
          "base_uri": "https://localhost:8080/"
        },
        "id": "RQdN59w9YpZU",
        "outputId": "8a379a91-a319-4b26-e1d8-8dfc4d121a99"
      },
      "execution_count": 160,
      "outputs": [
        {
          "output_type": "stream",
          "name": "stdout",
          "text": [
            "loss: 0.31288138031959534\n",
            "OrderedDict([('weights', tensor([0.3406])), ('bias', tensor([0.1388]))])\n"
          ]
        }
      ]
    },
    {
      "cell_type": "code",
      "source": [
        "module_instance.state_dict()\n"
      ],
      "metadata": {
        "colab": {
          "base_uri": "https://localhost:8080/"
        },
        "id": "efXlS-5PqG2h",
        "outputId": "5e1bed03-bc5b-4887-f7c1-8ed28d8ea9f3"
      },
      "execution_count": 161,
      "outputs": [
        {
          "output_type": "execute_result",
          "data": {
            "text/plain": [
              "OrderedDict([('weights', tensor([0.3406])), ('bias', tensor([0.1388]))])"
            ]
          },
          "metadata": {},
          "execution_count": 161
        }
      ]
    },
    {
      "cell_type": "code",
      "source": [
        "weight, bias"
      ],
      "metadata": {
        "colab": {
          "base_uri": "https://localhost:8080/"
        },
        "id": "hIj10RxLrANm",
        "outputId": "51d0e15e-7d79-4b1d-bae0-45f056a05113"
      },
      "execution_count": 162,
      "outputs": [
        {
          "output_type": "execute_result",
          "data": {
            "text/plain": [
              "(0.7, 0.3)"
            ]
          },
          "metadata": {},
          "execution_count": 162
        }
      ]
    },
    {
      "cell_type": "code",
      "source": [
        "with torch.inference_mode():\n",
        "  Y_test_predict = module_instance(test_split_data)\n",
        "  Y_test_predict"
      ],
      "metadata": {
        "id": "CvmjSn3lrDLj"
      },
      "execution_count": 163,
      "outputs": []
    },
    {
      "cell_type": "code",
      "source": [
        "Y_test_predict"
      ],
      "metadata": {
        "colab": {
          "base_uri": "https://localhost:8080/"
        },
        "id": "tAJj3QwgsXAb",
        "outputId": "f045cc12-cd31-4bcc-9994-578fa307a5a0"
      },
      "execution_count": 164,
      "outputs": [
        {
          "output_type": "execute_result",
          "data": {
            "text/plain": [
              "tensor([[0.4113],\n",
              "        [0.4181],\n",
              "        [0.4249],\n",
              "        [0.4317],\n",
              "        [0.4385],\n",
              "        [0.4453],\n",
              "        [0.4522],\n",
              "        [0.4590],\n",
              "        [0.4658],\n",
              "        [0.4726]])"
            ]
          },
          "metadata": {},
          "execution_count": 164
        }
      ]
    },
    {
      "cell_type": "code",
      "source": [
        "plot_predict(predictions=Y_test_predict)"
      ],
      "metadata": {
        "colab": {
          "base_uri": "https://localhost:8080/",
          "height": 599
        },
        "id": "kBXRZvqOsczD",
        "outputId": "1e4d9ac0-0021-4799-bb34-70183ca751ba"
      },
      "execution_count": 165,
      "outputs": [
        {
          "output_type": "display_data",
          "data": {
            "text/plain": [
              "<Figure size 1000x700 with 1 Axes>"
            ],
            "image/png": "[encoded data removed]"
          },
          "metadata": {}
        }
      ]
    },
    {
      "cell_type": "code",
      "source": [
        "with torch.inference_mode():\n",
        "  Y = module_instance(test_split_data)\n",
        "  print(Y)"
      ],
      "metadata": {
        "colab": {
          "base_uri": "https://localhost:8080/"
        },
        "id": "1ECPyUamsmkz",
        "outputId": "05a40c95-c485-4580-f31b-69691b511af6"
      },
      "execution_count": 166,
      "outputs": [
        {
          "output_type": "stream",
          "name": "stdout",
          "text": [
            "tensor([[0.4113],\n",
            "        [0.4181],\n",
            "        [0.4249],\n",
            "        [0.4317],\n",
            "        [0.4385],\n",
            "        [0.4453],\n",
            "        [0.4522],\n",
            "        [0.4590],\n",
            "        [0.4658],\n",
            "        [0.4726]])\n"
          ]
        }
      ]
    },
    {
      "cell_type": "code",
      "source": [
        "plot_predict(predictions=Y)"
      ],
      "metadata": {
        "colab": {
          "base_uri": "https://localhost:8080/",
          "height": 599
        },
        "id": "GuDHYunrtAd0",
        "outputId": "d2b3e3a7-cb66-43fd-ec06-7b077abbff5a"
      },
      "execution_count": 167,
      "outputs": [
        {
          "output_type": "display_data",
          "data": {
            "text/plain": [
              "<Figure size 1000x700 with 1 Axes>"
            ],
            "image/png": "[encoded data removed]"
          },
          "metadata": {}
        }
      ]
    },
    {
      "cell_type": "markdown",
      "source": [
        "# Writing the Testing code\n"
      ],
      "metadata": {
        "id": "t9gX4TJytw90"
      }
    },
    {
      "cell_type": "code",
      "source": [
        "epochs = 200  # one loop through data\n",
        "\n",
        "\n",
        "epoch_count =[]\n",
        "loss_values = []\n",
        "test_loss_values = []\n",
        "# 1. Loop through the data\n",
        "for epoch in range(epochs):\n",
        "  #Set the model to training mode\n",
        "  module_instance.train() # Train mode in PyTorch set all parameter that reuire gradient to require gadient\n",
        "\n",
        "  # 2. Forward pass\n",
        "  Y_pred = module_instance(train_split_data)\n",
        "\n",
        "  # 3. Calculate the loss\n",
        "  loss = loss_fn(Y_pred, train_split_labels)\n",
        "  print(f'loss: {loss}')\n",
        "\n",
        "  # 4. optimizer zero grad\n",
        "\n",
        "  optimizer.zero_grad()\n",
        "\n",
        "  # 5. Perform back propagation with respect to the parameters of the model\n",
        "  loss.backward()\n",
        "\n",
        "  # 6. Step the optimizer (Perform Gradient Descent)\n",
        "  optimizer.step()\n",
        "\n",
        "  # Testing\n",
        "  module_instance.eval() # Turn off different settings in the model which is not needed for evaluation/testing (dropout/batchnorm)\n",
        "\n",
        "  with torch.inference_mode():\n",
        "    #1. do the forward pass\n",
        "    test_pred = module_instance(test_split_data)\n",
        "\n",
        "    # 2. Calculate the loss\n",
        "    test_loss = loss_fn(test_pred, test_split_labels)\n",
        "\n",
        "\n",
        "  if epoch%10 == 0:\n",
        "    print(f\"Epoch: {epoch} | Loss: {loss} | Test loss: {test_loss}\" )\n",
        "    epoch_count.append(epoch)\n",
        "    loss_values.append(loss)\n",
        "    test_loss_values.append(test_loss)\n",
        "    print(module_instance.state_dict())"
      ],
      "metadata": {
        "colab": {
          "base_uri": "https://localhost:8080/"
        },
        "id": "avCfwxI0tFst",
        "outputId": "feb66b15-b669-4e8a-a66e-50ca29f8485e"
      },
      "execution_count": 187,
      "outputs": [
        {
          "output_type": "stream",
          "name": "stdout",
          "text": [
            "loss: 0.31288138031959534\n",
            "Epoch: 0 | Loss: 0.31288138031959534 | Test loss: 0.48106518387794495\n",
            "OrderedDict([('weights', tensor([0.3406])), ('bias', tensor([0.1388]))])\n",
            "loss: 0.3013603389263153\n",
            "loss: 0.28983935713768005\n",
            "loss: 0.2783183455467224\n",
            "loss: 0.26679736375808716\n",
            "loss: 0.2552763521671295\n",
            "loss: 0.24375534057617188\n",
            "loss: 0.23223432898521423\n",
            "loss: 0.22071333229541779\n",
            "loss: 0.20919232070446014\n",
            "loss: 0.1976713240146637\n",
            "Epoch: 10 | Loss: 0.1976713240146637 | Test loss: 0.3463551998138428\n",
            "OrderedDict([('weights', tensor([0.3796])), ('bias', tensor([0.2388]))])\n",
            "loss: 0.18615034222602844\n",
            "loss: 0.1746293306350708\n",
            "loss: 0.16310831904411316\n",
            "loss: 0.1515873372554779\n",
            "loss: 0.14006635546684265\n",
            "loss: 0.1285453587770462\n",
            "loss: 0.11702437698841095\n",
            "loss: 0.1060912236571312\n",
            "loss: 0.09681284427642822\n",
            "loss: 0.08908725529909134\n",
            "Epoch: 20 | Loss: 0.08908725529909134 | Test loss: 0.21729660034179688\n",
            "OrderedDict([('weights', tensor([0.4184])), ('bias', tensor([0.3333]))])\n",
            "loss: 0.08227583020925522\n",
            "loss: 0.07638873159885406\n",
            "loss: 0.07160007208585739\n",
            "loss: 0.06747635453939438\n",
            "loss: 0.06395438313484192\n",
            "loss: 0.06097004935145378\n",
            "loss: 0.05845819041132927\n",
            "loss: 0.05635259300470352\n",
            "loss: 0.0545857772231102\n",
            "loss: 0.053148526698350906\n",
            "Epoch: 30 | Loss: 0.053148526698350906 | Test loss: 0.14464017748832703\n",
            "OrderedDict([('weights', tensor([0.4512])), ('bias', tensor([0.3768]))])\n",
            "loss: 0.05181945487856865\n",
            "loss: 0.05069301277399063\n",
            "loss: 0.0498228520154953\n",
            "loss: 0.04895269125699997\n",
            "loss: 0.04819351062178612\n",
            "loss: 0.047531817108392715\n",
            "loss: 0.04692792519927025\n",
            "loss: 0.04642331600189209\n",
            "loss: 0.04591871052980423\n",
            "loss: 0.04543796554207802\n",
            "Epoch: 40 | Loss: 0.04543796554207802 | Test loss: 0.11360953003168106\n",
            "OrderedDict([('weights', tensor([0.4748])), ('bias', tensor([0.3868]))])\n",
            "loss: 0.04503796249628067\n",
            "loss: 0.04463795945048332\n",
            "loss: 0.04423796385526657\n",
            "loss: 0.04383796453475952\n",
            "loss: 0.04343796148896217\n",
            "loss: 0.043074630200862885\n",
            "loss: 0.04272563382983208\n",
            "loss: 0.04237663000822067\n",
            "loss: 0.04202762991189957\n",
            "loss: 0.04167863354086876\n",
            "Epoch: 50 | Loss: 0.04167863354086876 | Test loss: 0.09919948130846024\n",
            "OrderedDict([('weights', tensor([0.4938])), ('bias', tensor([0.3843]))])\n",
            "loss: 0.04132963344454765\n",
            "loss: 0.04098063334822655\n",
            "loss: 0.04063162952661514\n",
            "loss: 0.040282636880874634\n",
            "loss: 0.039933640509843826\n",
            "loss: 0.03958464413881302\n",
            "loss: 0.03923564404249191\n",
            "loss: 0.03888664394617081\n",
            "loss: 0.0385376438498497\n",
            "loss: 0.03818932920694351\n",
            "Epoch: 60 | Loss: 0.03818932920694351 | Test loss: 0.08886633068323135\n",
            "OrderedDict([('weights', tensor([0.5116])), ('bias', tensor([0.3788]))])\n",
            "loss: 0.03785243630409241\n",
            "loss: 0.0375034399330616\n",
            "loss: 0.037164121866226196\n",
            "loss: 0.03681822493672371\n",
            "loss: 0.03647511452436447\n",
            "loss: 0.03613303601741791\n",
            "loss: 0.03578609973192215\n",
            "loss: 0.03544783592224121\n",
            "loss: 0.035098835825920105\n",
            "loss: 0.03476089984178543\n",
            "Epoch: 70 | Loss: 0.03476089984178543 | Test loss: 0.0805937647819519\n",
            "OrderedDict([('weights', tensor([0.5288])), ('bias', tensor([0.3718]))])\n",
            "loss: 0.03441363573074341\n",
            "loss: 0.03407188132405281\n",
            "loss: 0.03372843936085701\n",
            "loss: 0.03338287025690079\n",
            "loss: 0.033043231815099716\n",
            "loss: 0.03269423171877861\n",
            "loss: 0.032357655465602875\n",
            "loss: 0.03200903534889221\n",
            "loss: 0.03166864812374115\n",
            "loss: 0.03132382780313492\n",
            "Epoch: 80 | Loss: 0.03132382780313492 | Test loss: 0.07232122868299484\n",
            "OrderedDict([('weights', tensor([0.5459])), ('bias', tensor([0.3648]))])\n",
            "loss: 0.030979642644524574\n",
            "loss: 0.030638623982667923\n",
            "loss: 0.0302906334400177\n",
            "loss: 0.029953425750136375\n",
            "loss: 0.02960442565381527\n",
            "loss: 0.029265418648719788\n",
            "loss: 0.028919223695993423\n",
            "loss: 0.028576409444212914\n",
            "loss: 0.028234025463461876\n",
            "loss: 0.02788739837706089\n",
            "Epoch: 90 | Loss: 0.02788739837706089 | Test loss: 0.06473556160926819\n",
            "OrderedDict([('weights', tensor([0.5629])), ('bias', tensor([0.3573]))])\n",
            "loss: 0.02754882536828518\n",
            "loss: 0.027199819684028625\n",
            "loss: 0.026862185448408127\n",
            "loss: 0.02651461586356163\n",
            "loss: 0.026173178106546402\n",
            "loss: 0.025829419493675232\n",
            "loss: 0.02548416517674923\n",
            "loss: 0.025144213810563087\n",
            "loss: 0.02479521557688713\n",
            "loss: 0.024458957836031914\n",
            "Epoch: 100 | Loss: 0.024458957836031914 | Test loss: 0.05646304413676262\n",
            "OrderedDict([('weights', tensor([0.5800])), ('bias', tensor([0.3503]))])\n",
            "loss: 0.024110013619065285\n",
            "loss: 0.02376994863152504\n",
            "loss: 0.02342480979859829\n",
            "loss: 0.023080935701727867\n",
            "loss: 0.022739607840776443\n",
            "loss: 0.022391926497220993\n",
            "loss: 0.022054409608244896\n",
            "loss: 0.02170540764927864\n",
            "loss: 0.021366719156503677\n",
            "loss: 0.021020207554101944\n",
            "Epoch: 110 | Loss: 0.021020207554101944 | Test loss: 0.04819049686193466\n",
            "OrderedDict([('weights', tensor([0.5972])), ('bias', tensor([0.3433]))])\n",
            "loss: 0.020677709951996803\n",
            "loss: 0.02033500373363495\n",
            "loss: 0.01998869702219963\n",
            "loss: 0.019649803638458252\n",
            "loss: 0.019300809130072594\n",
            "loss: 0.018963487818837166\n",
            "loss: 0.01861560344696045\n",
            "loss: 0.018274478614330292\n",
            "loss: 0.017930403351783752\n",
            "loss: 0.01758546568453312\n",
            "Epoch: 120 | Loss: 0.01758546568453312 | Test loss: 0.04060482233762741\n",
            "OrderedDict([('weights', tensor([0.6141])), ('bias', tensor([0.3358]))])\n",
            "loss: 0.017245199531316757\n",
            "loss: 0.016896454617381096\n",
            "loss: 0.01656000316143036\n",
            "loss: 0.016210997477173805\n",
            "loss: 0.01587124727666378\n",
            "loss: 0.015525798313319683\n",
            "loss: 0.015182236209511757\n",
            "loss: 0.014840595424175262\n",
            "loss: 0.01449323259294033\n",
            "loss: 0.014155393466353416\n",
            "Epoch: 130 | Loss: 0.014155393466353416 | Test loss: 0.03233227878808975\n",
            "OrderedDict([('weights', tensor([0.6313])), ('bias', tensor([0.3288]))])\n",
            "loss: 0.013806397095322609\n",
            "loss: 0.013468016870319843\n",
            "loss: 0.013121193274855614\n",
            "loss: 0.01277900766581297\n",
            "loss: 0.012435992248356342\n",
            "loss: 0.01208999752998352\n",
            "loss: 0.011750795878469944\n",
            "loss: 0.011401787400245667\n",
            "loss: 0.011064787395298481\n",
            "loss: 0.010716589167714119\n",
            "Epoch: 140 | Loss: 0.010716589167714119 | Test loss: 0.024059748277068138\n",
            "OrderedDict([('weights', tensor([0.6485])), ('bias', tensor([0.3218]))])\n",
            "loss: 0.010375778190791607\n",
            "loss: 0.010031387209892273\n",
            "loss: 0.009686763398349285\n",
            "loss: 0.009346187114715576\n",
            "loss: 0.008997755125164986\n",
            "loss: 0.008660981431603432\n",
            "loss: 0.008311985060572624\n",
            "loss: 0.007972544990479946\n",
            "loss: 0.007626785431057215\n",
            "loss: 0.0072835334576666355\n",
            "Epoch: 150 | Loss: 0.0072835334576666355 | Test loss: 0.016474086791276932\n",
            "OrderedDict([('weights', tensor([0.6654])), ('bias', tensor([0.3143]))])\n",
            "loss: 0.006941580679267645\n",
            "loss: 0.006594526115804911\n",
            "loss: 0.006256377790123224\n",
            "loss: 0.005907376762479544\n",
            "loss: 0.005569315515458584\n",
            "loss: 0.005222178064286709\n",
            "loss: 0.004880306776612997\n",
            "loss: 0.004536976106464863\n",
            "loss: 0.00419129803776741\n",
            "loss: 0.0038517764769494534\n",
            "Epoch: 160 | Loss: 0.0038517764769494534 | Test loss: 0.008201557211577892\n",
            "OrderedDict([('weights', tensor([0.6826])), ('bias', tensor([0.3073]))])\n",
            "loss: 0.0035027749836444855\n",
            "loss: 0.0031660839449614286\n",
            "loss: 0.002817571861669421\n",
            "loss: 0.0024770735763013363\n",
            "loss: 0.0021323717664927244\n",
            "loss: 0.0017880648374557495\n",
            "loss: 0.0014518328243866563\n",
            "loss: 0.0011887758737429976\n",
            "loss: 0.0025885067880153656\n",
            "loss: 0.008932482451200485\n",
            "Epoch: 170 | Loss: 0.008932482451200485 | Test loss: 0.005023092031478882\n",
            "OrderedDict([('weights', tensor([0.6951])), ('bias', tensor([0.2993]))])\n",
            "loss: 0.0025885067880153656\n",
            "loss: 0.008932482451200485\n",
            "loss: 0.0025885067880153656\n",
            "loss: 0.008932482451200485\n",
            "loss: 0.0025885067880153656\n",
            "loss: 0.008932482451200485\n",
            "loss: 0.0025885067880153656\n",
            "loss: 0.008932482451200485\n",
            "loss: 0.0025885067880153656\n",
            "loss: 0.008932482451200485\n",
            "Epoch: 180 | Loss: 0.008932482451200485 | Test loss: 0.005023092031478882\n",
            "OrderedDict([('weights', tensor([0.6951])), ('bias', tensor([0.2993]))])\n",
            "loss: 0.0025885067880153656\n",
            "loss: 0.008932482451200485\n",
            "loss: 0.0025885067880153656\n",
            "loss: 0.008932482451200485\n",
            "loss: 0.0025885067880153656\n",
            "loss: 0.008932482451200485\n",
            "loss: 0.0025885067880153656\n",
            "loss: 0.008932482451200485\n",
            "loss: 0.0025885067880153656\n",
            "loss: 0.008932482451200485\n",
            "Epoch: 190 | Loss: 0.008932482451200485 | Test loss: 0.005023092031478882\n",
            "OrderedDict([('weights', tensor([0.6951])), ('bias', tensor([0.2993]))])\n",
            "loss: 0.0025885067880153656\n",
            "loss: 0.008932482451200485\n",
            "loss: 0.0025885067880153656\n",
            "loss: 0.008932482451200485\n",
            "loss: 0.0025885067880153656\n",
            "loss: 0.008932482451200485\n",
            "loss: 0.0025885067880153656\n",
            "loss: 0.008932482451200485\n",
            "loss: 0.0025885067880153656\n"
          ]
        }
      ]
    },
    {
      "cell_type": "code",
      "source": [
        "with torch.inference_mode():\n",
        "  Y = module_instance(test_split_data)\n",
        "  print(Y)\n",
        "\n",
        "plot_predict(predictions=Y)"
      ],
      "metadata": {
        "colab": {
          "base_uri": "https://localhost:8080/",
          "height": 773
        },
        "id": "7aJLHu92wocu",
        "outputId": "9a5b01f9-69b3-4292-c04a-1bbdb5c684db"
      },
      "execution_count": 169,
      "outputs": [
        {
          "output_type": "stream",
          "name": "stdout",
          "text": [
            "tensor([[0.8554],\n",
            "        [0.8693],\n",
            "        [0.8832],\n",
            "        [0.8971],\n",
            "        [0.9110],\n",
            "        [0.9249],\n",
            "        [0.9388],\n",
            "        [0.9527],\n",
            "        [0.9666],\n",
            "        [0.9805]])\n"
          ]
        },
        {
          "output_type": "display_data",
          "data": {
            "text/plain": [
              "<Figure size 1000x700 with 1 Axes>"
            ],
            "image/png": "[encoded data removed]"
          },
          "metadata": {}
        }
      ]
    },
    {
      "cell_type": "code",
      "source": [
        "# Plot the loss curves\n",
        "import numpy as np\n",
        "\n",
        "plt.plot(epoch_count, np.array(torch.tensor(loss_values).numpy()), label = \"Train loss\")\n",
        "plt.plot(epoch_count, test_loss_values,  label =\"Test Loss\")\n",
        "plt.title(\"Training and test loss curves\")\n",
        "plt.ylabel(\"Loss\")\n",
        "plt.xlabel(\"Epochs\")\n",
        "plt.legend();"
      ],
      "metadata": {
        "colab": {
          "base_uri": "https://localhost:8080/",
          "height": 472
        },
        "id": "0Jx9eKffxGJ0",
        "outputId": "4453808d-ab58-4b1c-ef8d-dbe918829b85"
      },
      "execution_count": 170,
      "outputs": [
        {
          "output_type": "display_data",
          "data": {
            "text/plain": [
              "<Figure size 640x480 with 1 Axes>"
            ],
            "image/png": "[encoded data removed]"
          },
          "metadata": {}
        }
      ]
    },
    {
      "cell_type": "code",
      "source": [],
      "metadata": {
        "id": "D_9BxLaI0z-I"
      },
      "execution_count": 170,
      "outputs": []
    }
  ]
}