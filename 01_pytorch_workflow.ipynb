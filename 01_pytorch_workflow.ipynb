{
  "nbformat": 4,
  "nbformat_minor": 0,
  "metadata": {
    "colab": {
      "provenance": [],
      "authorship_tag": "ABX9TyO/lF8JVOt/+k7CwNesDQME",
      "include_colab_link": true
    },
    "kernelspec": {
      "name": "python3",
      "display_name": "Python 3"
    },
    "language_info": {
      "name": "python"
    }
  },
  "cells": [
    {
      "cell_type": "markdown",
      "metadata": {
        "id": "view-in-github",
        "colab_type": "text"
      },
      "source": [
        "<a href=\"https://colab.research.google.com/github/Farahnosh-Yousofi/PyTorch-Tutorials/blob/main/01_pytorch_workflow.ipynb\" target=\"_parent\"><img src=\"https://colab.research.google.com/assets/colab-badge.svg\" alt=\"Open In Colab\"/></a>"
      ]
    },
    {
      "cell_type": "markdown",
      "source": [
        "Learned and worked by following codes and explanations in https://github.com/mrdbourke/pytorch-deep-learning/blob/main/01_pytorch_workflow.ipynb"
      ],
      "metadata": {
        "id": "k-dZvu-BU-tJ"
      }
    },
    {
      "cell_type": "code",
      "execution_count": 2,
      "metadata": {
        "id": "-qGELMWSeRZT"
      },
      "outputs": [],
      "source": [
        "import torch\n",
        "from torch import nn\n",
        "import matplotlib.pyplot as plt\n",
        "\n"
      ]
    },
    {
      "cell_type": "code",
      "source": [
        "# Data preparing and loading\n",
        "# We'll use a linear regression formula to make straight line with known parameters\n",
        "\n",
        "weight = 0.7\n",
        "bias = 0.3\n",
        "\n",
        "# create\n",
        "start = 0\n",
        "end = 1\n",
        "step = 0.02\n",
        "X = torch.arange(0,1, step).unsqueeze(dim = 1)\n",
        "Y = bias + weight*X"
      ],
      "metadata": {
        "id": "hZGkiuD7gXtz"
      },
      "execution_count": 3,
      "outputs": []
    },
    {
      "cell_type": "code",
      "source": [
        "Y"
      ],
      "metadata": {
        "colab": {
          "base_uri": "https://localhost:8080/"
        },
        "id": "KOjx73EJiOOP",
        "outputId": "2973448e-2f1a-4301-f5ee-769d63a90fd0"
      },
      "execution_count": 4,
      "outputs": [
        {
          "output_type": "execute_result",
          "data": {
            "text/plain": [
              "tensor([[0.3000],\n",
              "        [0.3140],\n",
              "        [0.3280],\n",
              "        [0.3420],\n",
              "        [0.3560],\n",
              "        [0.3700],\n",
              "        [0.3840],\n",
              "        [0.3980],\n",
              "        [0.4120],\n",
              "        [0.4260],\n",
              "        [0.4400],\n",
              "        [0.4540],\n",
              "        [0.4680],\n",
              "        [0.4820],\n",
              "        [0.4960],\n",
              "        [0.5100],\n",
              "        [0.5240],\n",
              "        [0.5380],\n",
              "        [0.5520],\n",
              "        [0.5660],\n",
              "        [0.5800],\n",
              "        [0.5940],\n",
              "        [0.6080],\n",
              "        [0.6220],\n",
              "        [0.6360],\n",
              "        [0.6500],\n",
              "        [0.6640],\n",
              "        [0.6780],\n",
              "        [0.6920],\n",
              "        [0.7060],\n",
              "        [0.7200],\n",
              "        [0.7340],\n",
              "        [0.7480],\n",
              "        [0.7620],\n",
              "        [0.7760],\n",
              "        [0.7900],\n",
              "        [0.8040],\n",
              "        [0.8180],\n",
              "        [0.8320],\n",
              "        [0.8460],\n",
              "        [0.8600],\n",
              "        [0.8740],\n",
              "        [0.8880],\n",
              "        [0.9020],\n",
              "        [0.9160],\n",
              "        [0.9300],\n",
              "        [0.9440],\n",
              "        [0.9580],\n",
              "        [0.9720],\n",
              "        [0.9860]])"
            ]
          },
          "metadata": {},
          "execution_count": 4
        }
      ]
    },
    {
      "cell_type": "code",
      "source": [
        "X[:10], Y[:10], len(X), len(Y)"
      ],
      "metadata": {
        "colab": {
          "base_uri": "https://localhost:8080/"
        },
        "id": "OLDPaLWViVlq",
        "outputId": "a07966d6-d3ed-4a09-8583-5a122bb9e8c8"
      },
      "execution_count": 5,
      "outputs": [
        {
          "output_type": "execute_result",
          "data": {
            "text/plain": [
              "(tensor([[0.0000],\n",
              "         [0.0200],\n",
              "         [0.0400],\n",
              "         [0.0600],\n",
              "         [0.0800],\n",
              "         [0.1000],\n",
              "         [0.1200],\n",
              "         [0.1400],\n",
              "         [0.1600],\n",
              "         [0.1800]]),\n",
              " tensor([[0.3000],\n",
              "         [0.3140],\n",
              "         [0.3280],\n",
              "         [0.3420],\n",
              "         [0.3560],\n",
              "         [0.3700],\n",
              "         [0.3840],\n",
              "         [0.3980],\n",
              "         [0.4120],\n",
              "         [0.4260]]),\n",
              " 50,\n",
              " 50)"
            ]
          },
          "metadata": {},
          "execution_count": 5
        }
      ]
    },
    {
      "cell_type": "code",
      "source": [
        "# Train and test split of our data\n",
        "train_split = int(0.8*len(X))\n",
        "train_split_data, train_split_labels = X[:train_split], Y[:train_split] ## Means all data till train split\n",
        "train_split_data\n",
        "\n",
        "test_split_data, test_split_labels = X[train_split:], Y[train_split:]"
      ],
      "metadata": {
        "id": "xkZS2EK1ihE-"
      },
      "execution_count": 6,
      "outputs": []
    },
    {
      "cell_type": "code",
      "source": [
        "len(train_split_data),len(train_split_labels)"
      ],
      "metadata": {
        "colab": {
          "base_uri": "https://localhost:8080/"
        },
        "id": "zVzveJ8ykMFw",
        "outputId": "33cef85f-4856-4e3a-838e-376113c8e140"
      },
      "execution_count": 7,
      "outputs": [
        {
          "output_type": "execute_result",
          "data": {
            "text/plain": [
              "(40, 40)"
            ]
          },
          "metadata": {},
          "execution_count": 7
        }
      ]
    },
    {
      "cell_type": "code",
      "source": [
        "\n",
        "#How to visualize out data\n",
        "\n",
        "def plot_predict(train_data =train_split_data,\n",
        "                 train_label = train_split_labels,\n",
        "                 test_data = test_split_data,\n",
        "                 test_labels = test_split_labels,\n",
        "                 predictions = None):\n",
        "  '''\n",
        "  Plots training data and test data and compares pridections\n",
        "  '''\n",
        "  plt.figure(figsize = (10,7))\n",
        "\n",
        "  #plot training data in blue\n",
        "  plt.scatter(train_data, train_label, c = \"b\", s =4, label = \"Training data\")\n",
        "\n",
        "  #plot test data in red\n",
        "  plt.scatter(test_data, test_labels, c = \"g\", s =4, label = \"Test data\")\n",
        "\n",
        "  # Are there predictions\n",
        "  if predictions is not None:\n",
        "    #Plot the predictions if they exist\n",
        "    plt.scatter(test_data, predictions, c=\"r\", label=\"Predictions for test data\")\n",
        "\n",
        "  # show the legend\n",
        "  plt.legend(prop={\"size\":14})\n",
        "\n",
        "\n"
      ],
      "metadata": {
        "id": "XU0uRl5klYZG"
      },
      "execution_count": 24,
      "outputs": []
    },
    {
      "cell_type": "code",
      "source": [
        "plot_predict(train_split_data,train_split_labels,test_split_data, test_split_labels)"
      ],
      "metadata": {
        "id": "oC0ouaqjlopE",
        "colab": {
          "base_uri": "https://localhost:8080/",
          "height": 599
        },
        "outputId": "58fcab5a-1b53-4da2-cb46-c9d91be53a61"
      },
      "execution_count": 25,
      "outputs": [
        {
          "output_type": "display_data",
          "data": {
            "text/plain": [
              "<Figure size 1000x700 with 1 Axes>"
            ],
            "image/png": "[encoded data removed]"
          },
          "metadata": {}
        }
      ]
    },
    {
      "cell_type": "code",
      "source": [
        "# Build Pytorch Model\n",
        "class LinearRegressionModel(nn.Module):\n",
        "  def __init__(self):\n",
        "    super().__init__()\n",
        "    self.weights = nn.Parameter(torch.randn(1,\n",
        "                                            requires_grad = True,\n",
        "                                            dtype = torch.float))\n",
        "\n",
        "    self.bias = nn.Parameter(torch.randn(1,\n",
        "                                         requires_grad=True,\n",
        "                                         dtype = torch.float))\n",
        "\n",
        "  # Forward method to define the computation in the model\n",
        "  def forward(self, x: torch.Tensor) -> torch.Tensor:\n",
        "    return self.weights*x+self.bias # Linear Regression formula\n",
        "\n"
      ],
      "metadata": {
        "id": "GjkL2qOQrOFi"
      },
      "execution_count": 18,
      "outputs": []
    },
    {
      "cell_type": "markdown",
      "source": [
        "**Check the content of out module**"
      ],
      "metadata": {
        "id": "jDzCE-EaIXai"
      }
    },
    {
      "cell_type": "code",
      "source": [
        "## PyTorch model building essentials\n",
        "## Checking the contents of out pytorch model\n",
        "# create a random seed\n",
        "\n",
        "torch.manual_seed(42)\n",
        "\n",
        "#Create an instance of the model(this is the subclass of nn.Module)\n",
        "module_instance = LinearRegressionModel()\n",
        "\n",
        "# Checking the model parameters\n",
        "list(module_instance.parameters())\n"
      ],
      "metadata": {
        "colab": {
          "base_uri": "https://localhost:8080/"
        },
        "id": "94GHZH1oIdvM",
        "outputId": "f01545a5-8783-4bb7-d3aa-5ab02878ba1e"
      },
      "execution_count": 19,
      "outputs": [
        {
          "output_type": "execute_result",
          "data": {
            "text/plain": [
              "[Parameter containing:\n",
              " tensor([0.3367], requires_grad=True),\n",
              " Parameter containing:\n",
              " tensor([0.1288], requires_grad=True)]"
            ]
          },
          "metadata": {},
          "execution_count": 19
        }
      ]
    },
    {
      "cell_type": "code",
      "source": [
        "## Checking the parameters as list named parameters\n",
        "module_instance.state_dict()"
      ],
      "metadata": {
        "colab": {
          "base_uri": "https://localhost:8080/"
        },
        "id": "DSx--WbALCna",
        "outputId": "c2d180e2-3772-4bbc-dd24-b1fb3da735a1"
      },
      "execution_count": 20,
      "outputs": [
        {
          "output_type": "execute_result",
          "data": {
            "text/plain": [
              "OrderedDict([('weights', tensor([0.3367])), ('bias', tensor([0.1288]))])"
            ]
          },
          "metadata": {},
          "execution_count": 20
        }
      ]
    },
    {
      "cell_type": "code",
      "source": [
        "weight, bias"
      ],
      "metadata": {
        "colab": {
          "base_uri": "https://localhost:8080/"
        },
        "id": "caDyEsSJMd00",
        "outputId": "b4d309b3-908a-4ea9-a573-ddb46cc90c9a"
      },
      "execution_count": 15,
      "outputs": [
        {
          "output_type": "execute_result",
          "data": {
            "text/plain": [
              "(0.7, 0.3)"
            ]
          },
          "metadata": {},
          "execution_count": 15
        }
      ]
    },
    {
      "cell_type": "code",
      "source": [
        "## Testing our model with torch.inference_mode()\n",
        "# make predictions\n",
        "with torch.inference_mode():\n",
        "  predict = module_instance(test_split_data)\n",
        "\n",
        "predict"
      ],
      "metadata": {
        "colab": {
          "base_uri": "https://localhost:8080/"
        },
        "id": "cudbOYzzMlrh",
        "outputId": "994c8814-73bd-432e-b885-70b4a11cd1da"
      },
      "execution_count": 21,
      "outputs": [
        {
          "output_type": "execute_result",
          "data": {
            "text/plain": [
              "tensor([[0.3982],\n",
              "        [0.4049],\n",
              "        [0.4116],\n",
              "        [0.4184],\n",
              "        [0.4251],\n",
              "        [0.4318],\n",
              "        [0.4386],\n",
              "        [0.4453],\n",
              "        [0.4520],\n",
              "        [0.4588]])"
            ]
          },
          "metadata": {},
          "execution_count": 21
        }
      ]
    },
    {
      "cell_type": "code",
      "source": [
        "test_split_labels"
      ],
      "metadata": {
        "colab": {
          "base_uri": "https://localhost:8080/"
        },
        "id": "IWn_zoeDOn-w",
        "outputId": "d2148a26-bb84-4a1e-a9e0-eedc3c22deed"
      },
      "execution_count": 22,
      "outputs": [
        {
          "output_type": "execute_result",
          "data": {
            "text/plain": [
              "tensor([[0.8600],\n",
              "        [0.8740],\n",
              "        [0.8880],\n",
              "        [0.9020],\n",
              "        [0.9160],\n",
              "        [0.9300],\n",
              "        [0.9440],\n",
              "        [0.9580],\n",
              "        [0.9720],\n",
              "        [0.9860]])"
            ]
          },
          "metadata": {},
          "execution_count": 22
        }
      ]
    },
    {
      "cell_type": "code",
      "source": [
        "plot_predict(predictions=predict)"
      ],
      "metadata": {
        "colab": {
          "base_uri": "https://localhost:8080/",
          "height": 599
        },
        "id": "Rt60Rw2JPKEN",
        "outputId": "9de6ae3a-3ee2-4053-9d4f-c2570b82ffe1"
      },
      "execution_count": 26,
      "outputs": [
        {
          "output_type": "display_data",
          "data": {
            "text/plain": [
              "<Figure size 1000x700 with 1 Axes>"
            ],
            "image/png": "[encoded data removed]"
          },
          "metadata": {}
        }
      ]
    },
    {
      "cell_type": "code",
      "source": [
        "predict = module_instance(test_split_data)\n",
        "predict"
      ],
      "metadata": {
        "colab": {
          "base_uri": "https://localhost:8080/"
        },
        "id": "dmBJF008PSfs",
        "outputId": "ee1556b1-4d18-44fc-9d1c-b8cd6a86284b"
      },
      "execution_count": 28,
      "outputs": [
        {
          "output_type": "execute_result",
          "data": {
            "text/plain": [
              "tensor([[0.3982],\n",
              "        [0.4049],\n",
              "        [0.4116],\n",
              "        [0.4184],\n",
              "        [0.4251],\n",
              "        [0.4318],\n",
              "        [0.4386],\n",
              "        [0.4453],\n",
              "        [0.4520],\n",
              "        [0.4588]], grad_fn=<AddBackward0>)"
            ]
          },
          "metadata": {},
          "execution_count": 28
        }
      ]
    },
    {
      "cell_type": "markdown",
      "source": [
        "Use inference mode to just get the predictions and ignore the gradient watching"
      ],
      "metadata": {
        "id": "2lZcmhVuSTCw"
      }
    },
    {
      "cell_type": "code",
      "source": [],
      "metadata": {
        "id": "iGMIBHd4SMdG"
      },
      "execution_count": null,
      "outputs": []
    }
  ]
}